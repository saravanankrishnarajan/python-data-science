{
 "cells": [
  {
   "cell_type": "code",
   "execution_count": null,
   "id": "82ce3a8b",
   "metadata": {},
   "outputs": [],
   "source": [
    "1. Convert the given list into a numpy array and replace the odd elements with -2.\n",
    "Lst =[[1,2,3],\n",
    "      [4,5,6],\n",
    "      [7,8,9]]\n"
   ]
  },
  {
   "cell_type": "code",
   "execution_count": 262,
   "id": "3b8ad126",
   "metadata": {},
   "outputs": [
    {
     "name": "stdout",
     "output_type": "stream",
     "text": [
      "[[1 2 3]\n",
      " [4 5 6]\n",
      " [7 8 9]]\n",
      "array after replacing odd elements with -2 \n",
      " [[-2  2 -2]\n",
      " [ 4 -2  6]\n",
      " [-2  8 -2]]\n"
     ]
    }
   ],
   "source": [
    "import numpy as np\n",
    "Lst =[[1,2,3],\n",
    "      [4,5,6],\n",
    "      [7,8,9]]\n",
    "\n",
    "x =np.array(Lst)\n",
    "\n",
    "print(x)\n",
    "x[x%2!=0]=-2\n",
    "print(\"array after replacing odd elements with -2 \\n\",x)"
   ]
  },
  {
   "cell_type": "code",
   "execution_count": null,
   "id": "830388ba",
   "metadata": {},
   "outputs": [],
   "source": [
    "2. In the numpy array given below print all the elements ranging from 8 to 15.\n",
    "arr = [1,2,3,4,5,8,9,10,12,22,32,54,99,6,7]"
   ]
  },
  {
   "cell_type": "code",
   "execution_count": 263,
   "id": "e17bc55f",
   "metadata": {},
   "outputs": [
    {
     "data": {
      "text/plain": [
       "[12, 22, 32, 54, 99, 6, 7]"
      ]
     },
     "execution_count": 263,
     "metadata": {},
     "output_type": "execute_result"
    }
   ],
   "source": [
    "import numpy as np\n",
    "arr = [1,2,3,4,5,8,9,10,12,22,32,54,99,6,7]\n",
    "arr[8:16]"
   ]
  },
  {
   "cell_type": "code",
   "execution_count": null,
   "id": "b2f85237",
   "metadata": {},
   "outputs": [],
   "source": [
    "3. Create a 3*3 narray that includes numbers from 1 to 9 and swap columns 1 and 2."
   ]
  },
  {
   "cell_type": "code",
   "execution_count": 264,
   "id": "38d4ab0b",
   "metadata": {},
   "outputs": [
    {
     "name": "stdout",
     "output_type": "stream",
     "text": [
      "[[1 2 3]\n",
      " [4 5 6]\n",
      " [7 8 9]]\n",
      "[[2 1 3]\n",
      " [5 4 6]\n",
      " [8 7 9]]\n"
     ]
    }
   ],
   "source": [
    "arr = np.arange(1,10).reshape((3,3))\n",
    "print(arr)\n",
    "arr[:,[0,1]]=arr[:,[1,0]]\n",
    "print(arr)"
   ]
  },
  {
   "cell_type": "code",
   "execution_count": null,
   "id": "e15ee7a5",
   "metadata": {},
   "outputs": [],
   "source": [
    "4. In the given numpy array replace the NaN values with the average of columns\n",
    "arr = np.array([[1.3, 2.5, 3.6, np.nan],\n",
    "                [2.6, 3.3, np.nan, 5.5],\n",
    "                [2.1, 3.2, 5.4, 6.5]])"
   ]
  },
  {
   "cell_type": "code",
   "execution_count": 265,
   "id": "c0d07257",
   "metadata": {},
   "outputs": [
    {
     "name": "stdout",
     "output_type": "stream",
     "text": [
      "[[1.3 2.5 3.6 nan]\n",
      " [2.6 3.3 nan 5.5]\n",
      " [2.1 3.2 5.4 6.5]]\n",
      "[[1.3 2.5 3.6 6. ]\n",
      " [2.6 3.3 4.5 5.5]\n",
      " [2.1 3.2 5.4 6.5]]\n"
     ]
    }
   ],
   "source": [
    "arr = np.array([[1.3, 2.5, 3.6, np.nan],\n",
    "                [2.6, 3.3, np.nan, 5.5],\n",
    "                [2.1, 3.2, 5.4, 6.5]])\n",
    "\n",
    "print(arr)\n",
    "average = np.nanmean(arr,axis=0)\n",
    "\n",
    "indices = np.where(np.isnan(arr))\n",
    "\n",
    "for row,col in zip(*indices):\n",
    "    arr[row,col]=average[col]\n",
    "    \n",
    "print(arr)"
   ]
  },
  {
   "cell_type": "code",
   "execution_count": null,
   "id": "4062734e",
   "metadata": {},
   "outputs": [],
   "source": [
    "5. For the numpy array given below perform the following operation:\n",
    "i.Convert the numpy array into a numpy matrix\n",
    "ii.Sort the values in a matrix\n",
    "arr = [[2,4,6],\n",
    "       [1,3,5]]"
   ]
  },
  {
   "cell_type": "code",
   "execution_count": 266,
   "id": "7fa9e8c4",
   "metadata": {},
   "outputs": [
    {
     "name": "stdout",
     "output_type": "stream",
     "text": [
      "[[2 4 6]\n",
      " [1 3 5]]\n",
      "[[2 4 6]\n",
      " [1 3 5]]\n",
      "[[1 2 3]\n",
      " [4 5 6]]\n",
      "<class 'numpy.matrix'>\n"
     ]
    }
   ],
   "source": [
    "arr = [[2,4,6],\n",
    "       [1,3,5]]\n",
    "np_arr = np.array(arr)\n",
    "print(np_arr)\n",
    "np_mat = np.matrix(np_arr)\n",
    "print(np_mat)\n",
    "\n",
    "new_mat = np.hstack((np_mat[0,:],np_mat[1,:]))\n",
    "new_mat.sort()\n",
    "np_mat =new_mat.reshape((2,3))\n",
    "print(np_mat)\n",
    "print(type(np_mat))"
   ]
  },
  {
   "cell_type": "code",
   "execution_count": 267,
   "id": "ef75e2a0",
   "metadata": {},
   "outputs": [
    {
     "data": {
      "text/plain": [
       "array([2.+0.j, 4.+0.j, 6.+0.j])"
      ]
     },
     "execution_count": 267,
     "metadata": {},
     "output_type": "execute_result"
    }
   ],
   "source": [
    "np.array([2,4,6],dtype=complex)"
   ]
  },
  {
   "cell_type": "code",
   "execution_count": 268,
   "id": "a496ce6c",
   "metadata": {},
   "outputs": [
    {
     "ename": "NameError",
     "evalue": "name 'itemsize' is not defined",
     "output_type": "error",
     "traceback": [
      "\u001b[1;31m---------------------------------------------------------------------------\u001b[0m",
      "\u001b[1;31mNameError\u001b[0m                                 Traceback (most recent call last)",
      "Input \u001b[1;32mIn [268]\u001b[0m, in \u001b[0;36m<cell line: 1>\u001b[1;34m()\u001b[0m\n\u001b[1;32m----> 1\u001b[0m \u001b[43mitemsize\u001b[49m(\u001b[38;5;124m\"\u001b[39m\u001b[38;5;124mHello\u001b[39m\u001b[38;5;124m\"\u001b[39m)\n",
      "\u001b[1;31mNameError\u001b[0m: name 'itemsize' is not defined"
     ]
    }
   ],
   "source": [
    "itemsize(\"Hello\")"
   ]
  },
  {
   "cell_type": "code",
   "execution_count": null,
   "id": "d2a31f0a",
   "metadata": {},
   "outputs": [],
   "source": [
    "np_arr.itemsize()"
   ]
  }
 ],
 "metadata": {
  "kernelspec": {
   "display_name": "Python 3 (ipykernel)",
   "language": "python",
   "name": "python3"
  },
  "language_info": {
   "codemirror_mode": {
    "name": "ipython",
    "version": 3
   },
   "file_extension": ".py",
   "mimetype": "text/x-python",
   "name": "python",
   "nbconvert_exporter": "python",
   "pygments_lexer": "ipython3",
   "version": "3.10.6"
  }
 },
 "nbformat": 4,
 "nbformat_minor": 5
}
