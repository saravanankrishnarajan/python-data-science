{
 "cells": [
  {
   "cell_type": "code",
   "execution_count": null,
   "id": "0050636e",
   "metadata": {},
   "outputs": [],
   "source": [
    "1. Create a dog object that will inherit all the variables and methods of the parent\n",
    "class Animal and display it."
   ]
  },
  {
   "cell_type": "code",
   "execution_count": 4,
   "id": "f1315826",
   "metadata": {},
   "outputs": [
    {
     "name": "stdout",
     "output_type": "stream",
     "text": [
      "Animal Constructor\n",
      "This is Animal method1\n",
      "This is Animal method2\n",
      "1\n",
      "2\n"
     ]
    }
   ],
   "source": [
    "class Animal:\n",
    "    var1 = 1\n",
    "    var2 = 2\n",
    "    def __init__(self):\n",
    "        print(\"Animal Constructor\")\n",
    "    \n",
    "    def method1(self):\n",
    "        print(\"This is Animal method1\")\n",
    "\n",
    "    def method2(self):\n",
    "        print(\"This is Animal method2\")\n",
    "\n",
    "        \n",
    "class dog(Animal):\n",
    "    pass\n",
    "\n",
    "obj1 = dog()\n",
    "obj1.method1()\n",
    "obj1.method2()\n",
    "print(obj1.var1)\n",
    "print(obj1.var2)\n",
    "    \n"
   ]
  },
  {
   "cell_type": "code",
   "execution_count": null,
   "id": "93946c41",
   "metadata": {},
   "outputs": [],
   "source": [
    "2. Demonstrate the working of Polymorphism by creating two classes - Car and\n",
    "Bike. Display the information like name, color, and number of wheels."
   ]
  },
  {
   "cell_type": "code",
   "execution_count": 62,
   "id": "eed20c33",
   "metadata": {},
   "outputs": [
    {
     "name": "stdout",
     "output_type": "stream",
     "text": [
      "Name of the car:  Benz\n",
      "Color of the car: Dark Blue\n",
      "Number of wheels 4\n",
      "Name of the Bike:  Yamaha\n",
      "Color of the Bike: Black\n",
      "Number of wheels 2\n"
     ]
    }
   ],
   "source": [
    "class Car:\n",
    "    def __init__(self, name, color,wheels):\n",
    "        self.name = name\n",
    "        self.color = color\n",
    "        self.wheels = wheels\n",
    "    \n",
    "    def displayInformation(self):\n",
    "        print(\"Name of the Car: \",self.name)\n",
    "        print(\"Color of the Car:\", self.color)\n",
    "        print(\"Number of wheels in Car\",self.wheels)\n",
    "        \n",
    "class Bike(Car):\n",
    "    def __init(self, name, color,wheels):\n",
    "        super().__init__(self, name, color,wheels)\n",
    "        \n",
    "    def displayInformation(self):\n",
    "        print(\"Name of the Bike: \",self.name)\n",
    "        print(\"Color of the Bike:\", self.color)\n",
    "        print(\"Number of wheels in Bike\",self.wheels)\n",
    "\n",
    "carObj = Car(\"Benz\",\"Dark Blue\",4)\n",
    "carObj.displayInformation()\n",
    "\n",
    "bikeObj = Bike(\"Yamaha\",\"Black\",2)\n",
    "bikeObj.displayInformation()\n"
   ]
  },
  {
   "cell_type": "code",
   "execution_count": null,
   "id": "fec2c507",
   "metadata": {},
   "outputs": [],
   "source": [
    "3. Create a list of tuples containing the 5 planets of our solar system along with\n",
    "their moons as- earth having 1 moon, Jupiter having 79 moons, Saturn having\n",
    "82 moons, Uranus having 27 moons and Neptune having 14 moons. Sort the\n",
    "list according to the ascending number of moons along with the names of\n",
    "planet using Lambda function. Display both original and sorted list."
   ]
  },
  {
   "cell_type": "code",
   "execution_count": 1,
   "id": "4ba8140a",
   "metadata": {},
   "outputs": [
    {
     "name": "stdout",
     "output_type": "stream",
     "text": [
      "----Method 1\n",
      "[('Earth', 1), ('Jupiter', 79), ('Saturn', 82), ('Uranus', 27), ('Neptune', 14)]\n",
      "[('Earth', 1), ('Neptune', 14), ('Uranus', 27), ('Jupiter', 79), ('Saturn', 82)]\n",
      "----Method 2\n",
      "[('Earth', 1), ('Jupiter', 79), ('Saturn', 82), ('Uranus', 27), ('Neptune', 14)]\n",
      "[('Earth', 1), ('Neptune', 14), ('Uranus', 27), ('Jupiter', 79), ('Saturn', 82)]\n"
     ]
    }
   ],
   "source": [
    "list1 = [('Earth',1), ('Jupiter',79), ('Saturn',82),('Uranus',27),('Neptune',14)]\n",
    "\n",
    "print (\"----Method 1\")\n",
    "\n",
    "print(list1)\n",
    "sorted_list = sorted(list1, key =lambda elem: elem[1])\n",
    "print(sorted_list)\n",
    "\n",
    "print (\"----Method 2\")\n",
    "\n",
    "print(list1)\n",
    "list1.sort(key=lambda x:x[1])\n",
    "print(list1)\n"
   ]
  },
  {
   "cell_type": "code",
   "execution_count": null,
   "id": "997fe82b",
   "metadata": {},
   "outputs": [],
   "source": [
    "4. Create two functions - fillup and use, which uses a global variable as tank. Use\n",
    "the global variable in both the functions to return the quantity of fuel present\n",
    "in the tank after filling up the tank and after using the fuel of the tank. Show\n",
    "the working of two functions only. It is not necessary to display the outputs."
   ]
  },
  {
   "cell_type": "code",
   "execution_count": 34,
   "id": "6d51c8ed",
   "metadata": {},
   "outputs": [
    {
     "name": "stdout",
     "output_type": "stream",
     "text": [
      "45\n"
     ]
    }
   ],
   "source": [
    "tank = 0\n",
    "\n",
    "def fillup(f):\n",
    "    global tank\n",
    "    tank += f\n",
    "    return tank\n",
    "\n",
    "def use(u):\n",
    "    global tank\n",
    "    tank -= u\n",
    "    return tank\n",
    "\n",
    "fillup(50)\n",
    "use(5)\n",
    "print(tank)"
   ]
  },
  {
   "cell_type": "code",
   "execution_count": null,
   "id": "3783ed57",
   "metadata": {},
   "outputs": [],
   "source": [
    "5. Write a program to depict the use of multiple inheritance. The program should\n",
    "contain 4 classes - class 4 should inherit from class 2 and class 3. Similarly, class\n",
    "2 should inherit from class 1. Class 3 should inherit from class 1. Each class\n",
    "should have its own print statement.\n"
   ]
  },
  {
   "cell_type": "code",
   "execution_count": 31,
   "id": "b458fdd9",
   "metadata": {},
   "outputs": [
    {
     "name": "stdout",
     "output_type": "stream",
     "text": [
      "Class Four Constructor\n",
      "Class Two Constructor\n",
      "Class Three Constructor\n",
      "Class One Constructor\n",
      "<class '__main__.Four'>\n",
      "<class '__main__.Two'>\n",
      "<class '__main__.Three'>\n",
      "<class '__main__.One'>\n",
      "<class 'object'>\n"
     ]
    }
   ],
   "source": [
    "class One:\n",
    "    def __init__(self):\n",
    "        print(\"Class One Constructor\")\n",
    "\n",
    "class Two(One):\n",
    "    def __init__(self):\n",
    "        print(\"Class Two Constructor\")\n",
    "        super().__init__()\n",
    "\n",
    "class Three(One):\n",
    "    def __init__(self):\n",
    "        print(\"Class Three Constructor\")\n",
    "        super().__init__()\n",
    "\n",
    "\n",
    "class Four(Two,Three):\n",
    "     def __init__(self):\n",
    "        print(\"Class Four Constructor\")\n",
    "        super().__init__()\n",
    "\n",
    "#obj1 = One()\n",
    "#Obj2 = Two()\n",
    "#Obj3 = Three()\n",
    "#Obj4 = Four()\n",
    "Four()\n",
    "for i in Four.__mro__:\n",
    "    print(i)"
   ]
  },
  {
   "cell_type": "code",
   "execution_count": null,
   "id": "3a8ac337",
   "metadata": {},
   "outputs": [],
   "source": [
    "6. Use Getter and Setter method to set the name and age of a person. Moreover,\n",
    "get the name and age of the same person."
   ]
  },
  {
   "cell_type": "code",
   "execution_count": 6,
   "id": "21025921",
   "metadata": {},
   "outputs": [
    {
     "name": "stdout",
     "output_type": "stream",
     "text": [
      "('Ajitabh', 25)\n",
      "('Rahul', 30)\n"
     ]
    }
   ],
   "source": [
    "class Person:\n",
    "    def __init__(self):\n",
    "        pass\n",
    "    def setPerson(self,Name,age):\n",
    "        self.Name = Name\n",
    "        self.age = age\n",
    "    def getPerson(self):\n",
    "        return (self.Name, self.age)\n",
    "\n",
    "per1 = Person()\n",
    "per1.setPerson(\"Ajitabh\",25)\n",
    "print(per1.getPerson())\n",
    "\n",
    "per2 = Person()\n",
    "per2.setPerson(\"Rahul\",30)\n",
    "print(per2.getPerson())"
   ]
  },
  {
   "cell_type": "code",
   "execution_count": null,
   "id": "27efdcc8",
   "metadata": {},
   "outputs": [],
   "source": []
  }
 ],
 "metadata": {
  "kernelspec": {
   "display_name": "Python 3 (ipykernel)",
   "language": "python",
   "name": "python3"
  },
  "language_info": {
   "codemirror_mode": {
    "name": "ipython",
    "version": 3
   },
   "file_extension": ".py",
   "mimetype": "text/x-python",
   "name": "python",
   "nbconvert_exporter": "python",
   "pygments_lexer": "ipython3",
   "version": "3.10.6"
  }
 },
 "nbformat": 4,
 "nbformat_minor": 5
}
