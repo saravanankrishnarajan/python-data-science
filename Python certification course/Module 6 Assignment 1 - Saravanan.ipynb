{
 "cells": [
  {
   "cell_type": "raw",
   "id": "da50fdf1",
   "metadata": {},
   "source": [
    "1. Extract data from the given SalaryGender CSV file and store the data from each column in a separate NumPy array."
   ]
  },
  {
   "cell_type": "code",
   "execution_count": 6,
   "id": "d167ccd1",
   "metadata": {},
   "outputs": [
    {
     "name": "stdout",
     "output_type": "stream",
     "text": [
      "[140.    30.    35.1   30.    80.    30.    60.    31.1  125.    51.\n",
      "   3.    46.   150.     3.   130.    15.   130.    84.   190.    74.\n",
      "  73.    10.    50.     7.     9.5   15.2   28.6   20.    72.    81.\n",
      " 100.    90.    90.    35.    30.    25.    52.     9.    63.    72.\n",
      "  16.    92.   106.     2.5    9.    32.    32.    55.    52.    28.\n",
      "  20.    14.7   22.3   34.8   84.    19.   160.    65.    55.     4.6\n",
      " 102.    20.    62.    55.    45.6   40.    24.    35.    48.    20.\n",
      "  40.7   15.     0.25 152.    39.8   12.    30.   120.     1.7   36.\n",
      "  96.    38.    90.     9.    25.8   22.    38.8   72.    89.    41.\n",
      "  89.    25.    52.   115.    66.    18.6  152.     1.8   35.     4.  ] [1 0 0 1 0 0 1 0 1 1 1 1 1 1 1 0 1 0 1 1 0 0 0 0 0 1 1 0 0 1 0 0 0 1 0 1 0\n",
      " 0 1 1 1 0 1 1 0 0 0 1 1 0 0 0 1 0 0 1 1 0 0 1 1 1 0 1 1 0 0 1 0 0 0 1 0 1\n",
      " 0 0 1 1 1 1 1 0 1 1 0 0 0 1 1 0 1 0 1 0 0 1 1 1 0 0] [47 65 56 23 53 27 53 30 44 63 22 59 60 28 65 25 65 47 66 45 46 24 60 63\n",
      " 27 66 36 30 51 65 45 52 54 30 52 26 49 22 34 60 28 58 77 67 27 48 45 49\n",
      " 36 65 32 49 67 22 49 43 61 43 52 51 66 29 62 56 61 56 41 24 60 43 57 23\n",
      " 53 71 20 27 69 58 37 32 33 32 60 71 30 62 54 42 62 51 71 29 55 54 55 26\n",
      " 56 28 44 24] [1 1 0 0 1 0 0 0 1 1 0 0 1 0 0 0 0 1 1 1 0 0 0 0 0 1 1 0 1 1 1 1 1 0 0 0 0\n",
      " 0 1 0 0 1 1 0 0 1 0 1 0 1 0 0 0 0 1 0 1 1 0 0 1 0 0 1 0 0 0 0 0 0 0 0 0 1\n",
      " 0 0 1 1 0 1 1 1 0 0 0 0 0 1 0 1 1 0 1 0 1 0 1 0 0 0]\n"
     ]
    }
   ],
   "source": [
    "import pandas as pd\n",
    "import numpy as np\n",
    "from numpy import nan,NaN\n",
    "import random \n",
    "\n",
    "df  =pd.read_csv('SalaryGender.csv')\n",
    "df\n",
    "Salary,Gender,Age,PhD = np.array(df.Salary), np.array(df.Gender),np.array(df.Age),np.array(df.PhD)\n",
    "#type(Salary)\n",
    "print(Salary,Gender,Age,PhD)"
   ]
  },
  {
   "cell_type": "raw",
   "id": "8babcfa2",
   "metadata": {},
   "source": [
    "2. Find: 1. The number of men with a Ph.D. 2. The number of women with a Ph.D."
   ]
  },
  {
   "cell_type": "code",
   "execution_count": 54,
   "id": "aba2bc99",
   "metadata": {},
   "outputs": [
    {
     "name": "stdout",
     "output_type": "stream",
     "text": [
      "No of Male Phd:  24\n",
      "No of Female Phd:  15\n"
     ]
    }
   ],
   "source": [
    "#print(df.shape)\n",
    "df.groupby(by=['Gender'],).count()\n",
    "\n",
    "#print(df[df.PhD==1].groupby(('Gender'))[['Gender','PhD']].count())\n",
    "\n",
    "print(\"No of Male Phd: \",df[(df.Gender==1) & (df.PhD==1)]['Gender'].count())\n",
    "print(\"No of Female Phd: \",df[(df.Gender==0) & (df.PhD==1)]['Gender'].count())"
   ]
  },
  {
   "cell_type": "raw",
   "id": "d90f43a5",
   "metadata": {},
   "source": [
    "3. Store the \"Age\" and \"Ph.D.\" columns in one DataFrame and delete the data of all people who don't have a Ph.D. from the SalaryGender CSV file."
   ]
  },
  {
   "cell_type": "code",
   "execution_count": 55,
   "id": "64c99b86",
   "metadata": {},
   "outputs": [
    {
     "name": "stdout",
     "output_type": "stream",
     "text": [
      "(100, 2)\n",
      "(39, 2)\n"
     ]
    }
   ],
   "source": [
    "df2 =df[['Age','PhD']].copy()\n",
    "print(df2.shape)\n",
    "df2.drop(df2[df2['PhD']==0].index,inplace=True)\n",
    "print(df2.shape)"
   ]
  },
  {
   "cell_type": "raw",
   "id": "4f796017",
   "metadata": {},
   "source": [
    "4. Calculate the total number of people who have a Ph.D. degree from the SalaryGender CSV file."
   ]
  },
  {
   "cell_type": "code",
   "execution_count": 56,
   "id": "e4a7bd48",
   "metadata": {},
   "outputs": [
    {
     "data": {
      "text/plain": [
       "39"
      ]
     },
     "execution_count": 56,
     "metadata": {},
     "output_type": "execute_result"
    }
   ],
   "source": [
    "df[df['PhD']==1]['PhD'].count()"
   ]
  },
  {
   "cell_type": "raw",
   "id": "a7dda63b",
   "metadata": {},
   "source": [
    "5. How do you count the frequency of each value appearing in the given array of integers?\n",
    "[0, 5, 4, 0, 4, 4, 3, 0, 0, 5, 2, 1, 1, 9]\n",
    "Answer: array([4, 2, 1, 1, 3, 2, 0, 0, 0, 1]) which means 0 comes 4 times, 1 comes 2 times, 2 comes 1 time, 3 comes 1 time and so on."
   ]
  },
  {
   "cell_type": "code",
   "execution_count": 57,
   "id": "5b62d888",
   "metadata": {},
   "outputs": [
    {
     "name": "stdout",
     "output_type": "stream",
     "text": [
      "[4 2 1 1 3 2 1]\n"
     ]
    },
    {
     "data": {
      "text/plain": [
       "array([4, 2, 1, 1, 3, 2, 0, 0, 0, 1])"
      ]
     },
     "execution_count": 57,
     "metadata": {},
     "output_type": "execute_result"
    }
   ],
   "source": [
    "arr = np.array([0, 5, 4, 0, 4, 4, 3, 0, 0, 5, 2, 1, 1, 9])\n",
    "v,c = np.unique(arr,return_counts=True)\n",
    "#print(max(arr))\n",
    "print(c)\n",
    "frequence_list = []\n",
    "for i in range(0,max(arr)+1):\n",
    "    if(i in arr):\n",
    "        ind = np.where(v==i)\n",
    "        frequence_list.append(int(c[ind]))\n",
    "    else:\n",
    "        frequence_list.append(0)\n",
    "np.array(frequence_list)\n"
   ]
  },
  {
   "cell_type": "raw",
   "id": "8abb1e7c",
   "metadata": {},
   "source": [
    "6. Create a NumPy array [[0, 1, 2], [ 3, 4, 5], [ 6, 7, 8],[ 9, 10, 11]]) and filter the elements greater than 5."
   ]
  },
  {
   "cell_type": "code",
   "execution_count": 58,
   "id": "3a20df00",
   "metadata": {},
   "outputs": [
    {
     "data": {
      "text/plain": [
       "array([ 6,  7,  8,  9, 10, 11])"
      ]
     },
     "execution_count": 58,
     "metadata": {},
     "output_type": "execute_result"
    }
   ],
   "source": [
    "arr = np.array([[0, 1, 2], [ 3, 4, 5], [ 6, 7, 8],[ 9, 10, 11]])\n",
    "arr[arr>5]"
   ]
  },
  {
   "cell_type": "raw",
   "id": "6319067b",
   "metadata": {},
   "source": [
    "7. Create a NumPy array having NaN (Not a Number) and print it.\n",
    "array([ nan, 1., 2., NaN, 3., 4., 5.])\n",
    "Print the same array omitting all elements, which are NaN."
   ]
  },
  {
   "cell_type": "code",
   "execution_count": 59,
   "id": "36adf106",
   "metadata": {},
   "outputs": [
    {
     "data": {
      "text/plain": [
       "array([1., 2., 3., 4., 5.])"
      ]
     },
     "execution_count": 59,
     "metadata": {},
     "output_type": "execute_result"
    }
   ],
   "source": [
    "arr = np.array([ np.nan, 1., 2., np.NaN, 3., 4., 5.])\n",
    "arr[~np.isnan(arr)]"
   ]
  },
  {
   "cell_type": "raw",
   "id": "0547ce69",
   "metadata": {},
   "source": [
    "8. Create a 10x10 array with random values and find the minimum and maximum values."
   ]
  },
  {
   "cell_type": "code",
   "execution_count": 154,
   "id": "f20dfb56",
   "metadata": {},
   "outputs": [
    {
     "name": "stdout",
     "output_type": "stream",
     "text": [
      "[[2188 9830 3076 3935 2169 9397 7967 9153 7314 4164]\n",
      " [9407 4201 9839 6389 9107 5396 9948 2705 3028  634]\n",
      " [1236 4085 3849 2545 3438 9013  385 4100 2276 9470]\n",
      " [3420 3487 9881 4189 3543  899 4631 7024 8940 7627]\n",
      " [6254 8729 8386 6633 4949  909 2872 8811  453 8170]\n",
      " [4018 1066 8029 7840 7358 6441 4306 4596 2171 5736]\n",
      " [5383 3309 6087 5989 1367 1220 2573 4029 4180 2128]\n",
      " [7600 3323 7462 5920 8243 9576  854 7339 4925 1540]\n",
      " [9482 8347 1771 7303 6377 9079 6848 8633 1260 6919]\n",
      " [ 381 8613 9124 7755 4705 6852 8392 7132 9829 4377]]\n",
      "Minimum value in array is:  381\n",
      "Minimum value in array is:  9948\n"
     ]
    }
   ],
   "source": [
    "arr = np.array(random.sample(range(10,10000),100)).reshape(10,10)\n",
    "print(arr)\n",
    "print(\"Minimum value in array is: \",np.min(arr))\n",
    "print(\"Minimum value in array is: \",np.max(arr))\n"
   ]
  },
  {
   "cell_type": "raw",
   "id": "13284157",
   "metadata": {},
   "source": [
    "9. Create a random vector of size 30 and find the mean value."
   ]
  },
  {
   "cell_type": "code",
   "execution_count": 156,
   "id": "0211db9e",
   "metadata": {},
   "outputs": [
    {
     "name": "stdout",
     "output_type": "stream",
     "text": [
      "mean of 30 random vector values is:  5295.733333333334\n"
     ]
    }
   ],
   "source": [
    "arr = np.array(random.sample(range(10,10000),30))\n",
    "print(\"mean of 30 random vector values is: \",arr.mean())"
   ]
  },
  {
   "cell_type": "raw",
   "id": "bb55d9b0",
   "metadata": {},
   "source": [
    "10. Create a NumPy array having elements 0 to 10 And negate all the elements between 3 and 9."
   ]
  },
  {
   "cell_type": "code",
   "execution_count": 168,
   "id": "5dfe9c8b",
   "metadata": {},
   "outputs": [
    {
     "data": {
      "text/plain": [
       "array([10, 18, 15, -4, 17, 12, -7, 14, -8, 16])"
      ]
     },
     "execution_count": 168,
     "metadata": {},
     "output_type": "execute_result"
    }
   ],
   "source": [
    "arr = np.array(random.sample(range(0,20),10))\n",
    "arr[(arr>=3) & (arr<=9)]= arr[(arr>=3) & (arr<=9)] * -1\n",
    "arr"
   ]
  },
  {
   "cell_type": "raw",
   "id": "9b800af0",
   "metadata": {},
   "source": [
    "11. Create a random array of 3 rows and 3 columns and sort it according to the first, second, or third column."
   ]
  },
  {
   "cell_type": "code",
   "execution_count": 184,
   "id": "3bd07a44",
   "metadata": {},
   "outputs": [
    {
     "name": "stdout",
     "output_type": "stream",
     "text": [
      "[[34 82 42]\n",
      " [69 24 85]\n",
      " [31 17 84]]\n"
     ]
    },
    {
     "data": {
      "text/plain": [
       "array([[31, 17, 42],\n",
       "       [34, 24, 84],\n",
       "       [69, 82, 85]])"
      ]
     },
     "execution_count": 184,
     "metadata": {},
     "output_type": "execute_result"
    }
   ],
   "source": [
    "#arr = np.array(random.sample(range(10,100),9)).reshape(3,3)\n",
    "arr = np.array([[34, 82, 42], [69, 24, 85], [31, 17, 84]])\n",
    "print(arr)\n",
    "np.sort(arr,axis=0)"
   ]
  },
  {
   "cell_type": "raw",
   "id": "7bbf90b4",
   "metadata": {},
   "source": [
    "12. Create a four dimensions array to get the sum over the last two axes at once."
   ]
  },
  {
   "cell_type": "code",
   "execution_count": 206,
   "id": "35150387",
   "metadata": {},
   "outputs": [
    {
     "name": "stdout",
     "output_type": "stream",
     "text": [
      "[[[[59 89]\n",
      "   [93 78]]\n",
      "\n",
      "  [[39 42]\n",
      "   [13 29]]]\n",
      "\n",
      "\n",
      " [[[52 77]\n",
      "   [18 44]]\n",
      "\n",
      "  [[68 26]\n",
      "   [84 58]]]]\n",
      "two\n",
      "236\n"
     ]
    },
    {
     "data": {
      "text/plain": [
       "(None,)"
      ]
     },
     "execution_count": 206,
     "metadata": {},
     "output_type": "execute_result"
    }
   ],
   "source": [
    "#arr = np.array(random.sample(range(10,100),16)).reshape(2,2,2,2)\n",
    "print(arr)\n",
    "\n",
    "print(\"last array 2x2 \") \n",
    "print(arr[1,1].sum()),\n"
   ]
  },
  {
   "cell_type": "raw",
   "id": "cefa4f3a",
   "metadata": {},
   "source": [
    "13. Create a random array and swap two rows of an array."
   ]
  },
  {
   "cell_type": "code",
   "execution_count": 211,
   "id": "3e0c62b4",
   "metadata": {},
   "outputs": [
    {
     "name": "stdout",
     "output_type": "stream",
     "text": [
      "[[34 82 42]\n",
      " [69 24 85]\n",
      " [31 17 84]\n",
      " [25 33 67]]\n",
      "[[34 82 42]\n",
      " [25 33 67]\n",
      " [31 17 84]\n",
      " [69 24 85]]\n"
     ]
    }
   ],
   "source": [
    "arr = np.array([[34, 82, 42], [69, 24, 85], [31, 17, 84],[25,33,67]])\n",
    "print(arr)\n",
    "arr[[1,3]] = arr[[3,1]]\n",
    "print(arr)"
   ]
  },
  {
   "cell_type": "raw",
   "id": "50f412b4",
   "metadata": {},
   "source": [
    "14. Create a random matrix and compute the matrix rank."
   ]
  },
  {
   "cell_type": "code",
   "execution_count": 216,
   "id": "539f9840",
   "metadata": {},
   "outputs": [
    {
     "name": "stdout",
     "output_type": "stream",
     "text": [
      "[[34 82 42]\n",
      " [69 24 85]\n",
      " [31 17 84]\n",
      " [25 33 67]]\n",
      "3\n",
      "[[34 82 42 12]\n",
      " [69 24 85 54]\n",
      " [31 17 84 90]\n",
      " [25 33 67 34]]\n",
      "4\n"
     ]
    }
   ],
   "source": [
    "arr = np.array([[34, 82, 42], [69, 24, 85], [31, 17, 84],[25,33,67]])\n",
    "print(arr)\n",
    "print(np.linalg.matrix_rank(arr))\n",
    "\n",
    "arr = np.array([[34, 82, 42,12], [69, 24, 85,54], [31, 17, 84,90],[25,33,67,34]])\n",
    "print(arr)\n",
    "print(np.linalg.matrix_rank(arr))\n"
   ]
  },
  {
   "cell_type": "raw",
   "id": "5405feac",
   "metadata": {},
   "source": [
    "15. Assuming you are a public-school administrator, analyze various school outcomes in Tennessee using pandas. Some schools in your state of Tennessee are performing below average academically. Your superintendent, under pressure from frustrated parents and voters, approached you with the task of understanding why these schools are underperforming. To improve school performance, you need to learn more about these schools and their students, just as a business needs to understand its strengths and weaknesses, and its customers. Though you are eager to build an impressive explanatory model, you know the importance of conducting preliminary research to prevent possible pitfalls or blind spots. Thus, you engage in thorough exploratory analysis, which includes: a lit review, data collection, descriptive and inferential statistics, and data visualization.\n",
    "    \n",
    "Phase 1: Data collection\n",
    "Here is the data of every public school in middle Tennessee. The data also includes various demographic, school faculty, and income variables. You need to convert the data into useful information.\n",
    "• Read the data in the pandas DataFrame\n",
    "• Describe the data to find more details\n",
    "\n",
    "Phase 2: Group data by school ratings\n",
    "Selects indicators, which describe school administration (stu_teach_ratio) or the student body (for example, reduced_lunch). reduced_lunch is a variable that measures the average percentage of students (per school) enrolled in a federal program providing lunch to students from impoverished households. In short, reduced_lunch is a good proxy for household income.\n",
    "Separates reduced_lunch and groups the data by school_rating using the pandas groupby() function.\n",
    "\n",
    "Phase 3: Correlation analysis\n",
    "Find the correlation between school_rating and reduced_lunch. The values in the correlation matrix table will be between -1 and 1. A value of -1 indicates the strongest possible negative correlation, meaning as one variable decreases, the other increases. And a value of 1 indicates the opposite.\n",
    "\n",
    "Phase 4: Scatter plot\n",
    "Find the relationship between school_rating and reduced_lunch. Plot a graph with the two variables on a scatter plot. Each dot represents a school. The placement of the dot represents the school's rating (Y-axis) and the percentage of its students on reduced lunch (X-axis). The downward trend line shows the negative correlation between school_rating and reduced_lunch (as one increases, the other decreases). The slope of the trend line indicates how much school_rating decreases as reduced_lunch increases. A steeper slope would indicate that a small change in reduced_lunch has a big impact on school_rating, while a more horizontal slope would indicate that the same small change in reduced_lunch has a smaller impact on school_rating.\n",
    "\n",
    "Phase 5: Correlation matrix\n",
    "Red cells indicate a positive correlation; blue cells indicate a negative correlation; white cells indicate no correlation. The darker the colors, the stronger the correlation (positive or negative) between those two variables. Draw a graph of the correlation matrix having all the important fields of the DataFrame.\n",
    "    "
   ]
  },
  {
   "cell_type": "raw",
   "id": "f63dfc24",
   "metadata": {},
   "source": [
    "Phase 1: Data collection\n",
    "Here is the data of every public school in middle Tennessee. The data also includes various demographic, school faculty, and income variables. You need to convert the data into useful information.\n",
    "• Read the data in the pandas DataFrame\n",
    "• Describe the data to find more details"
   ]
  },
  {
   "cell_type": "code",
   "execution_count": 7,
   "id": "fd3524aa",
   "metadata": {},
   "outputs": [
    {
     "data": {
      "text/html": [
       "<div>\n",
       "<style scoped>\n",
       "    .dataframe tbody tr th:only-of-type {\n",
       "        vertical-align: middle;\n",
       "    }\n",
       "\n",
       "    .dataframe tbody tr th {\n",
       "        vertical-align: top;\n",
       "    }\n",
       "\n",
       "    .dataframe thead th {\n",
       "        text-align: right;\n",
       "    }\n",
       "</style>\n",
       "<table border=\"1\" class=\"dataframe\">\n",
       "  <thead>\n",
       "    <tr style=\"text-align: right;\">\n",
       "      <th></th>\n",
       "      <th>school_rating</th>\n",
       "      <th>size</th>\n",
       "      <th>reduced_lunch</th>\n",
       "      <th>state_percentile_16</th>\n",
       "      <th>state_percentile_15</th>\n",
       "      <th>stu_teach_ratio</th>\n",
       "      <th>avg_score_15</th>\n",
       "      <th>avg_score_16</th>\n",
       "      <th>full_time_teachers</th>\n",
       "      <th>percent_black</th>\n",
       "      <th>percent_white</th>\n",
       "      <th>percent_asian</th>\n",
       "      <th>percent_hispanic</th>\n",
       "    </tr>\n",
       "  </thead>\n",
       "  <tbody>\n",
       "    <tr>\n",
       "      <th>count</th>\n",
       "      <td>347.000000</td>\n",
       "      <td>347.000000</td>\n",
       "      <td>347.000000</td>\n",
       "      <td>347.000000</td>\n",
       "      <td>341.000000</td>\n",
       "      <td>347.000000</td>\n",
       "      <td>341.000000</td>\n",
       "      <td>347.000000</td>\n",
       "      <td>347.000000</td>\n",
       "      <td>347.000000</td>\n",
       "      <td>347.000000</td>\n",
       "      <td>347.000000</td>\n",
       "      <td>347.000000</td>\n",
       "    </tr>\n",
       "    <tr>\n",
       "      <th>mean</th>\n",
       "      <td>2.968300</td>\n",
       "      <td>699.472622</td>\n",
       "      <td>50.279539</td>\n",
       "      <td>58.801729</td>\n",
       "      <td>58.249267</td>\n",
       "      <td>15.461671</td>\n",
       "      <td>57.004692</td>\n",
       "      <td>57.049856</td>\n",
       "      <td>44.939481</td>\n",
       "      <td>21.197983</td>\n",
       "      <td>61.673487</td>\n",
       "      <td>2.642651</td>\n",
       "      <td>11.164553</td>\n",
       "    </tr>\n",
       "    <tr>\n",
       "      <th>std</th>\n",
       "      <td>1.690377</td>\n",
       "      <td>400.598636</td>\n",
       "      <td>25.480236</td>\n",
       "      <td>32.540747</td>\n",
       "      <td>32.702630</td>\n",
       "      <td>5.725170</td>\n",
       "      <td>26.696450</td>\n",
       "      <td>27.968974</td>\n",
       "      <td>22.053386</td>\n",
       "      <td>23.562538</td>\n",
       "      <td>27.274859</td>\n",
       "      <td>3.109629</td>\n",
       "      <td>12.030608</td>\n",
       "    </tr>\n",
       "    <tr>\n",
       "      <th>min</th>\n",
       "      <td>0.000000</td>\n",
       "      <td>53.000000</td>\n",
       "      <td>2.000000</td>\n",
       "      <td>0.200000</td>\n",
       "      <td>0.600000</td>\n",
       "      <td>4.700000</td>\n",
       "      <td>1.500000</td>\n",
       "      <td>0.100000</td>\n",
       "      <td>2.000000</td>\n",
       "      <td>0.000000</td>\n",
       "      <td>1.100000</td>\n",
       "      <td>0.000000</td>\n",
       "      <td>0.000000</td>\n",
       "    </tr>\n",
       "    <tr>\n",
       "      <th>25%</th>\n",
       "      <td>2.000000</td>\n",
       "      <td>420.500000</td>\n",
       "      <td>30.000000</td>\n",
       "      <td>30.950000</td>\n",
       "      <td>27.100000</td>\n",
       "      <td>13.700000</td>\n",
       "      <td>37.600000</td>\n",
       "      <td>37.000000</td>\n",
       "      <td>30.000000</td>\n",
       "      <td>3.600000</td>\n",
       "      <td>40.600000</td>\n",
       "      <td>0.750000</td>\n",
       "      <td>3.800000</td>\n",
       "    </tr>\n",
       "    <tr>\n",
       "      <th>50%</th>\n",
       "      <td>3.000000</td>\n",
       "      <td>595.000000</td>\n",
       "      <td>51.000000</td>\n",
       "      <td>66.400000</td>\n",
       "      <td>65.800000</td>\n",
       "      <td>15.000000</td>\n",
       "      <td>61.800000</td>\n",
       "      <td>60.700000</td>\n",
       "      <td>40.000000</td>\n",
       "      <td>13.500000</td>\n",
       "      <td>68.700000</td>\n",
       "      <td>1.600000</td>\n",
       "      <td>6.400000</td>\n",
       "    </tr>\n",
       "    <tr>\n",
       "      <th>75%</th>\n",
       "      <td>4.000000</td>\n",
       "      <td>851.000000</td>\n",
       "      <td>71.500000</td>\n",
       "      <td>88.000000</td>\n",
       "      <td>88.600000</td>\n",
       "      <td>16.700000</td>\n",
       "      <td>79.600000</td>\n",
       "      <td>80.250000</td>\n",
       "      <td>54.000000</td>\n",
       "      <td>28.350000</td>\n",
       "      <td>85.950000</td>\n",
       "      <td>3.100000</td>\n",
       "      <td>13.800000</td>\n",
       "    </tr>\n",
       "    <tr>\n",
       "      <th>max</th>\n",
       "      <td>5.000000</td>\n",
       "      <td>2314.000000</td>\n",
       "      <td>98.000000</td>\n",
       "      <td>99.800000</td>\n",
       "      <td>99.800000</td>\n",
       "      <td>111.000000</td>\n",
       "      <td>99.000000</td>\n",
       "      <td>98.900000</td>\n",
       "      <td>140.000000</td>\n",
       "      <td>97.400000</td>\n",
       "      <td>99.700000</td>\n",
       "      <td>21.100000</td>\n",
       "      <td>65.200000</td>\n",
       "    </tr>\n",
       "  </tbody>\n",
       "</table>\n",
       "</div>"
      ],
      "text/plain": [
       "       school_rating         size  reduced_lunch  state_percentile_16  \\\n",
       "count     347.000000   347.000000     347.000000           347.000000   \n",
       "mean        2.968300   699.472622      50.279539            58.801729   \n",
       "std         1.690377   400.598636      25.480236            32.540747   \n",
       "min         0.000000    53.000000       2.000000             0.200000   \n",
       "25%         2.000000   420.500000      30.000000            30.950000   \n",
       "50%         3.000000   595.000000      51.000000            66.400000   \n",
       "75%         4.000000   851.000000      71.500000            88.000000   \n",
       "max         5.000000  2314.000000      98.000000            99.800000   \n",
       "\n",
       "       state_percentile_15  stu_teach_ratio  avg_score_15  avg_score_16  \\\n",
       "count           341.000000       347.000000    341.000000    347.000000   \n",
       "mean             58.249267        15.461671     57.004692     57.049856   \n",
       "std              32.702630         5.725170     26.696450     27.968974   \n",
       "min               0.600000         4.700000      1.500000      0.100000   \n",
       "25%              27.100000        13.700000     37.600000     37.000000   \n",
       "50%              65.800000        15.000000     61.800000     60.700000   \n",
       "75%              88.600000        16.700000     79.600000     80.250000   \n",
       "max              99.800000       111.000000     99.000000     98.900000   \n",
       "\n",
       "       full_time_teachers  percent_black  percent_white  percent_asian  \\\n",
       "count          347.000000     347.000000     347.000000     347.000000   \n",
       "mean            44.939481      21.197983      61.673487       2.642651   \n",
       "std             22.053386      23.562538      27.274859       3.109629   \n",
       "min              2.000000       0.000000       1.100000       0.000000   \n",
       "25%             30.000000       3.600000      40.600000       0.750000   \n",
       "50%             40.000000      13.500000      68.700000       1.600000   \n",
       "75%             54.000000      28.350000      85.950000       3.100000   \n",
       "max            140.000000      97.400000      99.700000      21.100000   \n",
       "\n",
       "       percent_hispanic  \n",
       "count        347.000000  \n",
       "mean          11.164553  \n",
       "std           12.030608  \n",
       "min            0.000000  \n",
       "25%            3.800000  \n",
       "50%            6.400000  \n",
       "75%           13.800000  \n",
       "max           65.200000  "
      ]
     },
     "execution_count": 7,
     "metadata": {},
     "output_type": "execute_result"
    }
   ],
   "source": [
    "schools = pd.read_csv('middle_tn_schools.csv')\n",
    "schools.describe()"
   ]
  },
  {
   "cell_type": "raw",
   "id": "0a7427f0",
   "metadata": {},
   "source": [
    "Phase 2: Group data by school ratings\n",
    "Selects indicators, which describe school administration (stu_teach_ratio) or the student body (for example, reduced_lunch). reduced_lunch is a variable that measures the average percentage of students (per school) enrolled in a federal program providing lunch to students from impoverished households. In short, reduced_lunch is a good proxy for household income.\n",
    "Separates reduced_lunch and groups the data by school_rating using the pandas groupby() function.\n"
   ]
  },
  {
   "cell_type": "code",
   "execution_count": 8,
   "id": "853cff49",
   "metadata": {},
   "outputs": [
    {
     "data": {
      "text/html": [
       "<div>\n",
       "<style scoped>\n",
       "    .dataframe tbody tr th:only-of-type {\n",
       "        vertical-align: middle;\n",
       "    }\n",
       "\n",
       "    .dataframe tbody tr th {\n",
       "        vertical-align: top;\n",
       "    }\n",
       "\n",
       "    .dataframe thead tr th {\n",
       "        text-align: left;\n",
       "    }\n",
       "\n",
       "    .dataframe thead tr:last-of-type th {\n",
       "        text-align: right;\n",
       "    }\n",
       "</style>\n",
       "<table border=\"1\" class=\"dataframe\">\n",
       "  <thead>\n",
       "    <tr>\n",
       "      <th></th>\n",
       "      <th colspan=\"3\" halign=\"left\">reduced_lunch</th>\n",
       "    </tr>\n",
       "    <tr>\n",
       "      <th></th>\n",
       "      <th>sum</th>\n",
       "      <th>count</th>\n",
       "      <th>mean</th>\n",
       "    </tr>\n",
       "    <tr>\n",
       "      <th>school_rating</th>\n",
       "      <th></th>\n",
       "      <th></th>\n",
       "      <th></th>\n",
       "    </tr>\n",
       "  </thead>\n",
       "  <tbody>\n",
       "    <tr>\n",
       "      <th>0.0</th>\n",
       "      <td>3594.0</td>\n",
       "      <td>43</td>\n",
       "      <td>83.581395</td>\n",
       "    </tr>\n",
       "    <tr>\n",
       "      <th>1.0</th>\n",
       "      <td>2998.0</td>\n",
       "      <td>40</td>\n",
       "      <td>74.950000</td>\n",
       "    </tr>\n",
       "    <tr>\n",
       "      <th>2.0</th>\n",
       "      <td>2828.0</td>\n",
       "      <td>44</td>\n",
       "      <td>64.272727</td>\n",
       "    </tr>\n",
       "    <tr>\n",
       "      <th>3.0</th>\n",
       "      <td>2816.0</td>\n",
       "      <td>56</td>\n",
       "      <td>50.285714</td>\n",
       "    </tr>\n",
       "    <tr>\n",
       "      <th>4.0</th>\n",
       "      <td>3526.0</td>\n",
       "      <td>86</td>\n",
       "      <td>41.000000</td>\n",
       "    </tr>\n",
       "    <tr>\n",
       "      <th>5.0</th>\n",
       "      <td>1685.0</td>\n",
       "      <td>78</td>\n",
       "      <td>21.602564</td>\n",
       "    </tr>\n",
       "  </tbody>\n",
       "</table>\n",
       "</div>"
      ],
      "text/plain": [
       "              reduced_lunch                 \n",
       "                        sum count       mean\n",
       "school_rating                               \n",
       "0.0                  3594.0    43  83.581395\n",
       "1.0                  2998.0    40  74.950000\n",
       "2.0                  2828.0    44  64.272727\n",
       "3.0                  2816.0    56  50.285714\n",
       "4.0                  3526.0    86  41.000000\n",
       "5.0                  1685.0    78  21.602564"
      ]
     },
     "execution_count": 8,
     "metadata": {},
     "output_type": "execute_result"
    }
   ],
   "source": [
    "#schools.groupby(['school_rating'])[['stu_teach_ratio','reduced_lunch']].mean()\n",
    "schools.groupby(['school_rating']).agg({'reduced_lunch':['sum','count','mean']})"
   ]
  },
  {
   "cell_type": "raw",
   "id": "aced9b5b",
   "metadata": {},
   "source": [
    "Phase 3: Correlation analysis\n",
    "Find the correlation between school_rating and reduced_lunch. The values in the correlation matrix table will be between -1 and 1. A value of -1 indicates the strongest possible negative correlation, meaning as one variable decreases, the other increases. And a value of 1 indicates the opposite."
   ]
  },
  {
   "cell_type": "code",
   "execution_count": 9,
   "id": "546b15b8",
   "metadata": {},
   "outputs": [
    {
     "data": {
      "text/html": [
       "<div>\n",
       "<style scoped>\n",
       "    .dataframe tbody tr th:only-of-type {\n",
       "        vertical-align: middle;\n",
       "    }\n",
       "\n",
       "    .dataframe tbody tr th {\n",
       "        vertical-align: top;\n",
       "    }\n",
       "\n",
       "    .dataframe thead th {\n",
       "        text-align: right;\n",
       "    }\n",
       "</style>\n",
       "<table border=\"1\" class=\"dataframe\">\n",
       "  <thead>\n",
       "    <tr style=\"text-align: right;\">\n",
       "      <th></th>\n",
       "      <th>school_rating</th>\n",
       "      <th>reduced_lunch</th>\n",
       "    </tr>\n",
       "  </thead>\n",
       "  <tbody>\n",
       "    <tr>\n",
       "      <th>school_rating</th>\n",
       "      <td>1.000000</td>\n",
       "      <td>-0.815757</td>\n",
       "    </tr>\n",
       "    <tr>\n",
       "      <th>reduced_lunch</th>\n",
       "      <td>-0.815757</td>\n",
       "      <td>1.000000</td>\n",
       "    </tr>\n",
       "  </tbody>\n",
       "</table>\n",
       "</div>"
      ],
      "text/plain": [
       "               school_rating  reduced_lunch\n",
       "school_rating       1.000000      -0.815757\n",
       "reduced_lunch      -0.815757       1.000000"
      ]
     },
     "execution_count": 9,
     "metadata": {},
     "output_type": "execute_result"
    }
   ],
   "source": [
    "schools[['school_rating','reduced_lunch']].corr()"
   ]
  },
  {
   "cell_type": "raw",
   "id": "e950a847",
   "metadata": {},
   "source": [
    "Phase 4: Scatter plot\n",
    "Find the relationship between school_rating and reduced_lunch. Plot a graph with the two variables on a scatter plot. Each dot represents a school. The placement of the dot represents the school's rating (Y-axis) and the percentage of its students on reduced lunch (X-axis). The downward trend line shows the negative correlation between school_rating and reduced_lunch (as one increases, the other decreases). The slope of the trend line indicates how much school_rating decreases as reduced_lunch increases. A steeper slope would indicate that a small change in reduced_lunch has a big impact on school_rating, while a more horizontal slope would indicate that the same small change in reduced_lunch has a smaller impact on school_rating."
   ]
  },
  {
   "cell_type": "code",
   "execution_count": 11,
   "id": "1576e488",
   "metadata": {},
   "outputs": [
    {
     "data": {
      "image/png": "[encoded data removed]",
      "text/plain": [
       "<Figure size 640x480 with 1 Axes>"
      ]
     },
     "metadata": {},
     "output_type": "display_data"
    }
   ],
   "source": [
    "\n",
    "#schools.plot(x='school_rating',y='reduced_lunch',kind='scatter')\n",
    "\n",
    "import matplotlib.pyplot as plt\n",
    "import pandas as pd\n",
    "import numpy as np\n",
    "\n",
    "plt.scatter(schools['school_rating'], schools['reduced_lunch'])\n",
    "plt.xlabel('School rating')\n",
    "plt.ylabel('Reduced lunch')\n",
    "plt.title('School rating and Reduced lunch')\n",
    "plt.show()\n"
   ]
  },
  {
   "cell_type": "raw",
   "id": "bc9f2570",
   "metadata": {},
   "source": [
    "Phase 5: Correlation matrix\n",
    "Red cells indicate a positive correlation; blue cells indicate a negative correlation; white cells indicate no correlation. The darker the colors, the stronger the correlation (positive or negative) between those two variables. Draw a graph of the correlation matrix having all the important fields of the DataFrame.\n",
    "    "
   ]
  },
  {
   "cell_type": "code",
   "execution_count": 13,
   "id": "f152cfce",
   "metadata": {
    "scrolled": true
   },
   "outputs": [
    {
     "data": {
      "image/png": "[encoded data removed]",
      "text/plain": [
       "<Figure size 1000x800 with 1 Axes>"
      ]
     },
     "metadata": {},
     "output_type": "display_data"
    }
   ],
   "source": [
    "import matplotlib.pyplot as plt\n",
    "\n",
    "cols = schools.corr().columns\n",
    "plt.figure(figsize=(10,8))\n",
    "plt.imshow(schools.corr(), cmap='RdBu' )\n",
    "plt.xticks(np.arange(len(cols)),cols,rotation=70 )\n",
    "plt.yticks(np.arange(len(cols)),cols)\n",
    "plt.show()\n",
    "\n",
    "\n"
   ]
  },
  {
   "cell_type": "code",
   "execution_count": null,
   "id": "32f0fead",
   "metadata": {},
   "outputs": [],
   "source": []
  }
 ],
 "metadata": {
  "kernelspec": {
   "display_name": "Python 3 (ipykernel)",
   "language": "python",
   "name": "python3"
  },
  "language_info": {
   "codemirror_mode": {
    "name": "ipython",
    "version": 3
   },
   "file_extension": ".py",
   "mimetype": "text/x-python",
   "name": "python",
   "nbconvert_exporter": "python",
   "pygments_lexer": "ipython3",
   "version": "3.10.6"
  }
 },
 "nbformat": 4,
 "nbformat_minor": 5
}
