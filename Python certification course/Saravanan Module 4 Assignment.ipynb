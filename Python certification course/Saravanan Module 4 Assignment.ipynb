{
 "cells": [
  {
   "cell_type": "raw",
   "id": "381c106f",
   "metadata": {},
   "source": [
    "1. A Robot moves in a Plane starting from the origin point (0,0). The robot can\n",
    "move UP, DOWN, LEFT, and RIGHT. The trace of Robot movement is as given\n",
    "following:\n",
    "UP 5\n",
    "DOWN 3\n",
    "LEFT 3\n",
    "RIGHT 2\n",
    "\n",
    "(The numbers after directions are steps)\n",
    "\n",
    "Write a program to compute the current distance from the origin point after\n",
    "sequencing of movements.\n",
    "\n",
    "Hint: Use the math module.\n"
   ]
  },
  {
   "cell_type": "code",
   "execution_count": 79,
   "id": "0c1e289d",
   "metadata": {},
   "outputs": [
    {
     "name": "stdout",
     "output_type": "stream",
     "text": [
      "Distance from origin to robot by straight is :  2.23606797749979\n",
      "Distance from origin to robot by straight is :  2.23606797749979\n"
     ]
    }
   ],
   "source": [
    "import math\n",
    "\n",
    "x=0\n",
    "y=0\n",
    "\n",
    "steps = [['UP',5],['DOWN',3],['LEFT',3],['RIGHT',2]]\n",
    "\n",
    "for i in steps:\n",
    "    \n",
    "    match i[0]:\n",
    "        case('UP'):\n",
    "            y = y+i[1]\n",
    "        case('DOWN'):\n",
    "            y = y - i[1]\n",
    "        case('LEFT'):\n",
    "            x = x - i[1]\n",
    "        case('RIGHT'):\n",
    "            x = x + i[1]\n",
    "        \n",
    "\n",
    "print(\"Distance from origin to robot by straight is : \",math.dist([0,0],[x,y]))\n",
    "\n",
    "print(\"Distance from origin to robot by straight is : \",math.sqrt(x**2+y**2))"
   ]
  },
  {
   "cell_type": "raw",
   "id": "27ea22af",
   "metadata": {},
   "source": [
    "2. Data of XYZ company is stored in a sorted list. Write a program to search for\n",
    "specific data from that list.\n",
    "\n",
    "Hint: Use if/elif to deal with conditions."
   ]
  },
  {
   "cell_type": "code",
   "execution_count": 81,
   "id": "dd3fb247",
   "metadata": {},
   "outputs": [
    {
     "name": "stdout",
     "output_type": "stream",
     "text": [
      "python not found\n",
      "python not found\n",
      "python not found\n",
      "python found in: python handle data\n",
      "python found in: python in list\n"
     ]
    }
   ],
   "source": [
    "import re\n",
    "list = ['python in list','find somewhere','python handle data','data','not here']\n",
    "search_str ='python'\n",
    "\n",
    "sorted(list)\n",
    "for i in sorted(list):\n",
    "    if re.search(search_str, i):\n",
    "        print(search_str,'found in:',i)\n",
    "    elif not(re.search(search_str, i)):\n",
    "        print(search_str,'not found')"
   ]
  },
  {
   "cell_type": "raw",
   "id": "a2ef7ea4",
   "metadata": {},
   "source": [
    "3. A weather forecasting organization wants to show whether it is day or night.\n",
    "Write a program to find whether is it dark outside or not based on the local\n",
    "system time.\n",
    "\n",
    "Hint: Use the time module."
   ]
  },
  {
   "cell_type": "code",
   "execution_count": 87,
   "id": "ec8d7561",
   "metadata": {},
   "outputs": [
    {
     "name": "stdout",
     "output_type": "stream",
     "text": [
      "It is dark outside\n"
     ]
    }
   ],
   "source": [
    "import time\n",
    "\n",
    "mytime = time.localtime()\n",
    "\n",
    "if ( mytime.tm_hour>6 and mytime.tm_hour<18):\n",
    "    print(\"It is daytime\")\n",
    "else:\n",
    "    print(\"It is dark outside\")"
   ]
  },
  {
   "cell_type": "raw",
   "id": "30dbd533",
   "metadata": {},
   "source": [
    "4. Write a program to find the distance between two locations when their latitude\n",
    "and longitudes are given.\n",
    "\n",
    "Hint: Use the math module."
   ]
  },
  {
   "cell_type": "code",
   "execution_count": 54,
   "id": "3830dd52",
   "metadata": {},
   "outputs": [
    {
     "name": "stdout",
     "output_type": "stream",
     "text": [
      "279.5097824982557\n"
     ]
    }
   ],
   "source": [
    "import math\n",
    "\n",
    "earth_raidus = 6371\n",
    "\n",
    "lat1 = math.radians(11.6643) #salem\n",
    "long1 = math.radians(78.1460)\n",
    "lat2 = math.radians(13.0827) #chennai\n",
    "long2 = math.radians(80.2707)\n",
    "\n",
    "lon_diff = abs(long2-long1)\n",
    "lat_diff = abs(lat2-lat1)\n",
    "\n",
    "a = math.sin(lat_diff / 2)**2 + math.cos(lat1) * math.cos(lat2) * math.sin(lon_diff / 2)**2\n",
    "c = 2 * math.atan2(math.sqrt(a), math.sqrt(1 - a))\n",
    "\n",
    "distance = earth_raidus*c\n",
    "print(distance)"
   ]
  },
  {
   "cell_type": "raw",
   "id": "8e183a4e",
   "metadata": {},
   "source": [
    "5. Design a banking system software with options like cash withdrawal, cash\n",
    "credit, and change password. The software must display appropriate results\n",
    "based on user inputs.\n",
    "\n",
    "Hint: Use if else statements and functions."
   ]
  },
  {
   "cell_type": "code",
   "execution_count": 64,
   "id": "2842a690",
   "metadata": {},
   "outputs": [
    {
     "name": "stdout",
     "output_type": "stream",
     "text": [
      "Enter your number as choice \n",
      "1) Cash Withdrawl \n",
      "2) Cash credit\n",
      "3) Change password\n",
      "3\n",
      "User has selected change password option\n"
     ]
    }
   ],
   "source": [
    "def cash_withdrawl():\n",
    "    print(\"User has selected Cash withdrawl\")\n",
    "\n",
    "def cash_credit():\n",
    "    print(\"User has selected cash credit\")\n",
    "\n",
    "def change_password():\n",
    "    print(\"User has selected change password option\")\n",
    "\n",
    "user_option = int(input(\"Enter your number as choice \\n1) Cash Withdrawl \\n2) Cash credit\\n3) Change password\\n\"))\n",
    "\n",
    "if user_option == 1:\n",
    "    cash_withdrawl()\n",
    "elif user_option==2:\n",
    "    cash_credit()\n",
    "elif user_option==3:\n",
    "    change_password()\n",
    "else:\n",
    "    print(\"You have entered invalid option. Please try again\")"
   ]
  },
  {
   "cell_type": "raw",
   "id": "9075208f",
   "metadata": {},
   "source": [
    "6. Write a prograthatch will find all numbers which are divisible by 7 but are not a\n",
    "multiple of 5, between 2,000 and 3,200 (both included). The numbers obtained\n",
    "should be printed in a comma-separated sequence on a single line.\n"
   ]
  },
  {
   "cell_type": "code",
   "execution_count": 88,
   "id": "8cf46329",
   "metadata": {},
   "outputs": [
    {
     "name": "stdout",
     "output_type": "stream",
     "text": [
      "2002,2009,2016,2023,2037,2044,2051,2058,2072,2079,2086,2093,2107,2114,2121,2128,2142,2149,2156,2163,2177,2184,2191,2198,2212,2219,2226,2233,2247,2254,2261,2268,2282,2289,2296,2303,2317,2324,2331,2338,2352,2359,2366,2373,2387,2394,2401,2408,2422,2429,2436,2443,2457,2464,2471,2478,2492,2499,2506,2513,2527,2534,2541,2548,2562,2569,2576,2583,2597,2604,2611,2618,2632,2639,2646,2653,2667,2674,2681,2688,2702,2709,2716,2723,2737,2744,2751,2758,2772,2779,2786,2793,2807,2814,2821,2828,2842,2849,2856,2863,2877,2884,2891,2898,2912,2919,2926,2933,2947,2954,2961,2968,2982,2989,2996,3003,3017,3024,3031,3038,3052,3059,3066,3073,3087,3094,3101,3108,3122,3129,3136,3143,3157,3164,3171,3178,3192,3199,"
     ]
    }
   ],
   "source": [
    "for i in range(2000,3200+1):\n",
    "    if(i%7==0 and (i%5!=0)):\n",
    "        print(i,end=',')"
   ]
  },
  {
   "cell_type": "raw",
   "id": "94e60dcb",
   "metadata": {},
   "source": [
    "7. Write a prograthatch that can compute the factorial of given numbers. Use\n",
    "recursion to find it. \n"
   ]
  },
  {
   "cell_type": "code",
   "execution_count": 89,
   "id": "d9884652",
   "metadata": {},
   "outputs": [
    {
     "name": "stdout",
     "output_type": "stream",
     "text": [
      "Enter a number to find factorial: 5\n",
      "Factorial of 5 is: 120\n"
     ]
    }
   ],
   "source": [
    "def find_factorial(number):\n",
    "    if number==1:\n",
    "        return 1\n",
    "    else:\n",
    "        return number * find_factorial(number-1)\n",
    "\n",
    "user_fact = int(input(\"Enter a number to find factorial: \"))\n",
    "\n",
    "print(\"Factorial of\",str(user_fact),'is:', find_factorial(user_fact))\n"
   ]
  },
  {
   "cell_type": "raw",
   "id": "854459e2",
   "metadata": {},
   "source": [
    "8. Write a program that calculates and prints the value according to the given\n",
    "formula:\n",
    "    \n",
    "Q = Square root of [(2 * C * D)/H]\n",
    "Following are the fixed values of C and H: C is 50. H is 30.\n",
    "D is the variable whose values should be input to your program in a commaseparated sequence.\n",
    "\n",
    "Example\n",
    "\n",
    "Let us assume the following comma-separated input sequence is given to the\n",
    "program:\n",
    "100,150,180\n",
    "The output of the program should be:\n",
    "18,22,24"
   ]
  },
  {
   "cell_type": "code",
   "execution_count": 108,
   "id": "5c39e091",
   "metadata": {},
   "outputs": [
    {
     "name": "stdout",
     "output_type": "stream",
     "text": [
      "Enter value for D: 100,150,180\n",
      "18,22,24\n"
     ]
    }
   ],
   "source": [
    "import math\n",
    "\n",
    "D = input(\"Enter numbers: \").split(',')\n",
    "\n",
    "C=50\n",
    "H=30\n",
    "\n",
    "out_str=\"\"\n",
    "\n",
    "for i in D:\n",
    "    D=int(i)\n",
    "    Q = math.sqrt((2*C*D)/H)\n",
    "    out_str += str(int(Q))+','\n",
    "    \n",
    "print(out_str.rstrip(','))\n",
    "            "
   ]
  },
  {
   "cell_type": "raw",
   "id": "11e76329",
   "metadata": {},
   "source": [
    "9. Write a program that takes 2 digits, X, Y as input and generates a 2-dimensional\n",
    "array. The element value in the ith row and jth column of the array should be i*j.\n",
    "Note: I = 0, 1, .., X - 1; j = 0, 1, ¡-Y-1.\n",
    "    \n",
    "Example\n",
    "Suppose the following inputs are given to the program:\n",
    "3,5\n",
    "Then, the output of the program should be:\n",
    "[[0, 0, 0, 0, 0], [0, 1, 2, 3, 4], [0, 2, 4, 6, 8]] "
   ]
  },
  {
   "cell_type": "code",
   "execution_count": 158,
   "id": "c7c64a5d",
   "metadata": {},
   "outputs": [
    {
     "name": "stdout",
     "output_type": "stream",
     "text": [
      "Enter value for X: 3\n",
      "Enter value for Y: 5\n",
      "[[0, 0, 0, 0, 0], [0, 1, 2, 3, 4], [0, 2, 4, 6, 8]]\n"
     ]
    }
   ],
   "source": [
    "X=int(input(\"Enter value for X: \"))\n",
    "Y=int(input(\"Enter value for Y: \"))\n",
    "array_list=[]\n",
    "for i in range(0,X):\n",
    "    jlist=[]\n",
    "    for j in range(0,Y):\n",
    "        val = i*j\n",
    "        jlist.append(val)\n",
    "    array_list.append(jlist)\n",
    "print(array_list)"
   ]
  },
  {
   "cell_type": "raw",
   "id": "488d20ea",
   "metadata": {},
   "source": [
    "10. Write a program that accepts a comma-separated sequence of words as input\n",
    "and prints the words in a comma-separated sequence after sorting them\n",
    "alphabetically.\n",
    "Suppose the following input is supplied to the program:\n",
    " without, hello, bag, world\n",
    " Then, the output should be:\n",
    " bag, hello, without, world"
   ]
  },
  {
   "cell_type": "code",
   "execution_count": 166,
   "id": "9412bec0",
   "metadata": {},
   "outputs": [
    {
     "name": "stdout",
     "output_type": "stream",
     "text": [
      "Enter comma separated words to sort: without, hello, bag, world\n",
      "bag, hello, world, without\n"
     ]
    }
   ],
   "source": [
    "comma_words = input(\"Enter comma separated words to sort: \").split(',')\n",
    "\n",
    "sorted_words = ''\n",
    "for i in sorted(comma_words):\n",
    "    sorted_words += i.strip()+', '\n",
    "\n",
    "print(sorted_words.rstrip(', '))\n"
   ]
  },
  {
   "cell_type": "raw",
   "id": "1a8d3b4c",
   "metadata": {},
   "source": [
    "11. Write a program that accepts a sequence of lines as input and prints the lines\n",
    "after making all characters in the sentence capitalized.\n",
    "\n",
    "Suppose the following input is supplied to the program:\n",
    "    \n",
    "• Hello world\n",
    "• Practice makes perfect\n",
    " Then, the output should be:\n",
    "• HELLO WORLD\n",
    "• PRACTICE MAKES PERFECT\n"
   ]
  },
  {
   "cell_type": "code",
   "execution_count": 127,
   "id": "4dc6b574",
   "metadata": {
    "scrolled": true
   },
   "outputs": [
    {
     "name": "stdout",
     "output_type": "stream",
     "text": [
      "Enter sequence of lines\n",
      "• Hello world\n",
      "• Practice makes perfect\n",
      "\n",
      "• HELLO WORLD\n",
      "• PRACTICE MAKES PERFECT\n"
     ]
    }
   ],
   "source": [
    "print(\"Enter sequence of lines\")\n",
    "sentences=[]\n",
    "while True:\n",
    "    x = input()\n",
    "    if x:\n",
    "        sentences.append(x)\n",
    "    else:\n",
    "        break\n",
    "\n",
    "for i in sentences:\n",
    "    print(i.upper())"
   ]
  },
  {
   "cell_type": "raw",
   "id": "76503a5c",
   "metadata": {},
   "source": [
    "12. Write a program that accepts a sequence of whitespace-separated words as\n",
    "input and prints the words after removing all duplicate words and sorting them\n",
    "alphanumerically.\n",
    "\n",
    "Suppose the following input is supplied to the program:\n",
    " hello world and practice makes perfect and hello world again\n",
    " Then, the output should be:\n",
    " again and hello makes perfect practice world"
   ]
  },
  {
   "cell_type": "code",
   "execution_count": 130,
   "id": "4865e364",
   "metadata": {},
   "outputs": [
    {
     "name": "stdout",
     "output_type": "stream",
     "text": [
      "Enter sequence of whitespace-separated words: hello world and practice makes perfect and hello world again\n",
      "again and hello makes perfect practice world "
     ]
    }
   ],
   "source": [
    "non_dups = []\n",
    "words = input(\"Enter sequence of whitespace-separated words: \").split()\n",
    "for i in words:\n",
    "    if i not in non_dups:\n",
    "        non_dups.append(i)\n",
    "\n",
    "for j in sorted(non_dups):\n",
    "    print(j,end=' ')"
   ]
  },
  {
   "cell_type": "code",
   "execution_count": 168,
   "id": "7a5889c1",
   "metadata": {},
   "outputs": [
    {
     "name": "stdout",
     "output_type": "stream",
     "text": [
      "Enter sequence of whitespace-separated words: hello world and practice makes perfect and hello world again\n",
      "again and hello makes perfect practice world "
     ]
    }
   ],
   "source": [
    "non_dups = []\n",
    "words = input(\"Enter sequence of whitespace-separated words: \").split()\n",
    "words = set(words)\n",
    "for j in sorted(words):\n",
    "    print(j,end=' ')"
   ]
  },
  {
   "cell_type": "raw",
   "id": "9d940c66",
   "metadata": {},
   "source": [
    "13. Write a program that accepts a sequence of comma-separated 4-digit binary\n",
    "numbers as its input and then check whether they are divisible by 5 or not. The\n",
    "numbers that are divisible by 5 are to be printed in a comma-separated\n",
    "sequence.\n",
    "\n",
    "Example\n",
    "0100,0011,1010,1001\n",
    "Then the output should be:\n",
    "1010\n"
   ]
  },
  {
   "cell_type": "code",
   "execution_count": 142,
   "id": "7686a6f3",
   "metadata": {},
   "outputs": [
    {
     "name": "stdout",
     "output_type": "stream",
     "text": [
      "Enter sequence of comma separated 4 digit binary numbers: 0100,0011,1010,1001\n",
      "1010\n"
     ]
    }
   ],
   "source": [
    "binaries = input(\"Enter sequence of comma separated 4 digit binary numbers: \").split(',')\n",
    "for i in binaries:\n",
    "    newi = int(('0b'+i),2)\n",
    "\n",
    "    if(int(newi)%5==0):\n",
    "        print(i)\n",
    "        "
   ]
  },
  {
   "cell_type": "raw",
   "id": "4e345645",
   "metadata": {},
   "source": [
    "14. Write a program that accepts a sentence and calculate the number of upper-case\n",
    "letters and lower-case letters.\n",
    " Suppose the following input is supplied to the program:\n",
    " Hello world!\n",
    "\n",
    " Then, the output should be:\n",
    " UPPER CASE 1\n",
    " LOWER CASE 9"
   ]
  },
  {
   "cell_type": "code",
   "execution_count": 147,
   "id": "d3bdba40",
   "metadata": {},
   "outputs": [
    {
     "name": "stdout",
     "output_type": "stream",
     "text": [
      "Enter a sentence to find number of Upper and Lower case letters:  Hello world!\n",
      "UPPER CASE  1\n",
      "LOWER CASE  9\n"
     ]
    }
   ],
   "source": [
    "sentence = input(\"Enter a sentence to find number of Upper and Lower case letters: \")\n",
    "\n",
    "upperno=0\n",
    "lowerno=0\n",
    "\n",
    "for i in sentence:\n",
    "    if(i.isupper()):\n",
    "        upperno+=1\n",
    "    elif(i.islower()):\n",
    "        lowerno+=1\n",
    "        \n",
    "print(\"UPPER CASE \",upperno)\n",
    "print(\"LOWER CASE \",lowerno)\n"
   ]
  },
  {
   "cell_type": "raw",
   "id": "de0100ca",
   "metadata": {},
   "source": [
    "15. Give an example of fsum and sum function of math library\n"
   ]
  },
  {
   "cell_type": "code",
   "execution_count": 155,
   "id": "000fd7d1",
   "metadata": {},
   "outputs": [
    {
     "name": "stdout",
     "output_type": "stream",
     "text": [
      "sum with both lists with and without float values\n",
      "36\n",
      "28.150000000000002\n",
      "\n",
      "fsum with both lists with and without float values\n",
      "36.0\n",
      "28.15\n",
      "math.fsum always return sum as float\n",
      "\n",
      "math.fsum is accuracy in while storing decimal values\n"
     ]
    }
   ],
   "source": [
    "import math\n",
    "list1 = [1,2,3,4,5,6,7,8]\n",
    "list2 = [1,0.2,3,6.6,7.12,10.23]\n",
    "\n",
    "print(\"sum with both lists with and without float values\")\n",
    "print(sum(list1))\n",
    "print(sum(list2))\n",
    "print()\n",
    "\n",
    "print(\"fsum with both lists with and without float values\")\n",
    "print(math.fsum(list1))\n",
    "print(math.fsum(list2))\n",
    "print(\"math.fsum always return sum as float\")\n",
    "print()\n",
    "\n",
    "print(\"math.fsum is accuracy in while storing decimal values\")\n"
   ]
  },
  {
   "cell_type": "raw",
   "id": "25358274",
   "metadata": {},
   "source": [
    "16. Case Study:\n",
    "    \n",
    "Domain: Banking Marketing\n",
    "    \n",
    "Focus: Optimization\n",
    "    \n",
    "Business challenge/requirement\n",
    "------------------------------\n",
    "Bank of Portugal runs a marketing campaign to offer loans to clients. The loan is\n",
    "offered to only clients in selective professions.\n",
    "A list of successful campaigns (with client data) is given in the attached data set. You\n",
    "must come up with a program that reads the file and builds a set of unique profession\n",
    "lists. Based on the given input professions of the client, the system tells whether the\n",
    "client is eligible to be approached for the marketing campaign.\n",
    "\n",
    "Key issues\n",
    "----------\n",
    "Tele Caller can only make x number of cold calls in a day. Hence to increase her\n",
    "effectiveness only eligible customers should be contacted.\n",
    "\n",
    "Considerations\n",
    "--------------\n",
    "The current system does not differentiate clients based on age and profession.\n",
    "\n",
    "Data volume\n",
    "-----------\n",
    "447 records in bank-data.csv\n",
    "\n",
    "Additional information\n",
    "----------------------\n",
    "- NA\n",
    "\n",
    "Business benefits\n",
    "-----------------\n",
    "The company can achieve between 15% to 20% higher conversion by targeting the\n",
    "right clients.\n",
    "\n",
    "Approach to Solve\n",
    "-----------------\n",
    "You must use the fundamentals of Python taught in Module 3.\n",
    "1. Read file bank-data.csv\n",
    "2. Build a set of unique jobs\n",
    "3. Read the input from the command line – profession\n",
    "4. Check if the profession is on the list\n",
    "5. Print whether the client is eligible\n",
    "\n",
    "Enhancements for code\n",
    "---------------------\n",
    "You can try these enhancements in code\n",
    "\n",
    "1. Compute max and min age for loan eligibility based on data in csv file.\n",
    "2. Store max and min age in the dictionary.\n",
    "3. Make the professional check case insensitive.\n",
    "Currently program ends after the check. Take the input in the while loop and end only\n",
    "if the user types \"END\" for profession.\n"
   ]
  },
  {
   "cell_type": "code",
   "execution_count": 1,
   "id": "f5509e7a",
   "metadata": {},
   "outputs": [
    {
     "name": "stdout",
     "output_type": "stream",
     "text": [
      "Enter 'END' to end the program or press 'Enter' to continue\n",
      "Enter client profession: student\n",
      "Enter client age36\n",
      "Congratulations! You are elgible for the loan\n",
      "Enter 'END' to end the program or press 'Enter' to continue\n",
      "Enter client profession: housemaid\n",
      "Enter client age24\n",
      "Congratulations! You are elgible for the loan\n",
      "Enter 'END' to end the program or press 'Enter' to continuestudent\n",
      "Enter client profession: 82\n",
      "Enter client age82\n",
      "Sorry! you are not elgible for the loan\n",
      "Enter 'END' to end the program or press 'Enter' to continue\n",
      "Enter client profession: student\n",
      "Enter client age82\n",
      "Sorry! you are not elgible for the loan\n",
      "Enter 'END' to end the program or press 'Enter' to continueend\n",
      "Client ended the program!\n"
     ]
    }
   ],
   "source": [
    "import csv\n",
    "\n",
    "def profession_check(jobs,job):\n",
    "    if(job in jobs):\n",
    "        return True\n",
    "    else:\n",
    "        return False\n",
    "\n",
    "def age_check(ages,age):\n",
    "    if (age >=ages['min'] and age<=ages['max']):\n",
    "        return True\n",
    "    else:\n",
    "        return False\n",
    "\n",
    "#1. Read file bank-data.csv\n",
    "file_obj = open(\"bank-data.csv\",'r')\n",
    "csvreader = csv.reader(file_obj)\n",
    "next(csvreader)\n",
    "csv_data =[]\n",
    "for i in csvreader:\n",
    "    csv_data.append(i)\n",
    "\n",
    "age_list = [a[0] for a in csv_data]\n",
    "\n",
    "##1. Compute max and min age for loan eligibility based on data in csv file.\n",
    "##2. Store max and min age in the dictionary.\n",
    "ages = { 'min':int(min(age_list)), 'max': int(max(age_list))}\n",
    "\n",
    "#2. Build a set of unique jobs\n",
    "jobs = set([(a[1].lower()) for a in csv_data])\n",
    "#print(jobs)\n",
    "\n",
    "while True:\n",
    "    ##3. Make the professional check case insensitive. Currently program ends after the check. Take the input in the while loop and end only if the user types \"END\" for profession.\n",
    "    user_end = input(\"Enter 'END' to end the program or press 'Enter' to continue\")\n",
    "    if(user_end.lower() !='end'):\n",
    "        \n",
    "        ##3. Make the professional check case insensitive.\n",
    "        client_profession=input(\"Enter client profession: \").lower()\n",
    "        client_age = int(input(\"Enter client age\"))\n",
    "\n",
    "        if(profession_check(jobs, client_profession) and age_check(ages,client_age)):\n",
    "            print(\"Congratulations! You are elgible for the loan\")\n",
    "        else:\n",
    "            print(\"Sorry! you are not elgible for the loan\")\n",
    "    else:\n",
    "        print(\"Client ended the program!\")\n",
    "        break\n",
    "    print()\n"
   ]
  },
  {
   "cell_type": "raw",
   "id": "17af3fad",
   "metadata": {},
   "source": [
    "Domain: E-Commerce\n",
    "    \n",
    "Focus: Optimization\n",
    "    \n",
    "Business challenge/requirement\n",
    "------------------------------\n",
    "GoodsKart—the largest e-commerce company in Indonesia, with revenue of $2B+ has\n",
    "acquired another e-commerce company FairDeal. FairDeal has its own IT system to\n",
    "maintain the records of customers, sales, and so on. For ease of maintenance and cost\n",
    "savings, GoodsKart is integrating customer databases of both organizations hence\n",
    "customer data of FairDeal must be converted into GoodsKart customer data format.\n",
    "\n",
    "Key issues\n",
    "----------\n",
    "GoodsKart customer data has more fields than in FairDeal customer data. Hence\n",
    "FairDeal data needs to be split and stored in GoodsKart Customer Object-Oriented\n",
    "Data Structure.\n",
    "\n",
    "Considerations\n",
    "--------------\n",
    "The system should convert the data at run time.\n",
    "\n",
    "Data volume\n",
    "-----------\n",
    "- NA\n",
    "\n",
    "Additional information\n",
    "----------------------\n",
    "- NA\n",
    "\n",
    "Business benefits\n",
    "-----------------\n",
    "GoodsKart can eventually restructure the IT systems of FairDeal and reduce its cost\n",
    "by 20-30%\n",
    "\n",
    "Approach to Solve\n",
    "-----------------\n",
    "You must use the fundamentals of Python taught in Module 3.\n",
    "1. Read FairDealCustomerData.csv\n",
    "2. Name field contains full name – use a regular expression to separate title, first\n",
    "name, and last name\n",
    "3. Store the data in Customer Class\n",
    "4. Create Custom Exception – CustomerNotAllowedException\n",
    "5. Pass a customer to function \"create order\" and throw\n",
    "CustomerNotAllowedException in case of blacklisted value is 1\n",
    "\n",
    "Enhancements for code\n",
    "---------------------\n",
    "You can try these enhancements in code.\n",
    "1. Change function createOrder to take productname and product code as\n",
    "input\n",
    "2. Create Class Order\n",
    "Return object of type Order in case customer is eligible.\n"
   ]
  },
  {
   "cell_type": "code",
   "execution_count": 127,
   "id": "9df2cbaa",
   "metadata": {
    "scrolled": true
   },
   "outputs": [
    {
     "name": "stdout",
     "output_type": "stream",
     "text": [
      "Title:Mr. First Name:Owen Last Name:Harris Blacklisted:1\n",
      "Customer is blacklisted, not eligible to order\n",
      "Order has not been created\n",
      "\n",
      "Title:Mr. First Name:William Last Name:Henry Blacklisted:0\n",
      "Customer is eligible and order is created\n",
      "Order successfully created\n",
      "\n",
      "Title:Mr. First Name:Timothy Last Name:J Blacklisted:0\n",
      "Customer is eligible and order is created\n",
      "Order successfully created\n",
      "\n",
      "invalid order\n",
      "XXX 101\n",
      "XXX 101\n"
     ]
    }
   ],
   "source": [
    "import Customer\n",
    "import csv\n",
    "import re\n",
    "\n",
    "class CustomerNotAllowedException(Exception):\n",
    "    def __init__(self):\n",
    "        pass\n",
    "#2. Create Class Order\n",
    "#Return object of type Order in case customer is eligible.\n",
    "class Order:\n",
    "    product_name=''\n",
    "    product_code=''\n",
    "    def __init__(self):\n",
    "        pass\n",
    "\n",
    "    def setOrder(self,product_name,product_code):\n",
    "        self.product_name = product_name\n",
    "        self.product_code = product_code\n",
    "        \n",
    "    def getOrder(self):\n",
    "        return Order(self.product_name, self.product_code)\n",
    "        \n",
    "    \n",
    "\n",
    "\n",
    "#1. Change function createOrder to take productname and product code asinput    \n",
    "def CreateOrder(Cust,product_name,product_code):\n",
    "    try:\n",
    "        order= Order()\n",
    "        \n",
    "        if(Cust.isblacklisted==1):\n",
    "            raise CustomerNotAllowedException\n",
    "        else:\n",
    "            print(\"Customer is eligible and order is created\")\n",
    "            order.setOrder(product_name,product_code)\n",
    "            return  order\n",
    "            #return order1.getOrder()\n",
    "    except(CustomerNotAllowedException):\n",
    "        print(\"Customer is blacklisted, not eligible to order\")\n",
    "        return  order\n",
    "\n",
    "            \n",
    "#1. Read FairDealCustomerData.csv\n",
    "file_obj = open(\"FairDealCustomerData.csv\",'r')\n",
    "csvreader = csv.reader(file_obj)\n",
    "\n",
    "\n",
    "customers_data = []\n",
    "for i in csvreader:\n",
    "    if(re.match(\"([a-zA-Z].+)\\s(\\w+)\\s(\\w+)\",i[1].strip())):\n",
    "        customers_data.append(i)\n",
    "    \n",
    "\n",
    "#2. Name field contains full name – use a regular expression to separate title, first name, and last name\n",
    "for j in range(0,len(customers_data)):\n",
    "    customers_data[j][0]=customers_data[j][0].strip()\n",
    "    customers_data[j][1]=re.split(' ',customers_data[j][1].strip())\n",
    "    customers_data[j][2]=int(customers_data[j][2])\n",
    "    \n",
    "#3. Store the data in Customer Class\n",
    "Customers_list =[]\n",
    "for k in range(0,len(customers_data)):\n",
    "    Customers_list.append(Customer.Customer())\n",
    "    Customers_list[k].setTitle(customers_data[k][1][0])\n",
    "    Customers_list[k].setFname(customers_data[k][1][1])\n",
    "    Customers_list[k].setLname(customers_data[k][1][2])\n",
    "    Customers_list[k].setIsblacklisted(customers_data[k][2])\n",
    "    \n",
    "\n",
    "# run through first 3 customers in list\n",
    "order_list=[]\n",
    "for l in range(0,3):\n",
    "    print(Customers_list[l].__str__())\n",
    "    \n",
    "    order_list.append(CreateOrder(Customers_list[l],'XXX','101'))\n",
    "    #print(order_list[k])\n",
    "    if (order_list[l].product_name and order_list[l].product_code):\n",
    "        print(\"Order successfully created\")\n",
    "    else:\n",
    "        print(\"Order has not been created\")\n",
    "    print()\n",
    "for m in range(0,3):\n",
    "    if(order_list[m].product_name and order_list[m].product_code):\n",
    "        print(order_list[m].product_name, order_list[m].product_code)\n",
    "    else:\n",
    "        print(\"invalid order\")\n",
    "        "
   ]
  },
  {
   "cell_type": "code",
   "execution_count": null,
   "id": "920b2dc5",
   "metadata": {},
   "outputs": [],
   "source": []
  }
 ],
 "metadata": {
  "kernelspec": {
   "display_name": "Python 3 (ipykernel)",
   "language": "python",
   "name": "python3"
  },
  "language_info": {
   "codemirror_mode": {
    "name": "ipython",
    "version": 3
   },
   "file_extension": ".py",
   "mimetype": "text/x-python",
   "name": "python",
   "nbconvert_exporter": "python",
   "pygments_lexer": "ipython3",
   "version": "3.10.6"
  }
 },
 "nbformat": 4,
 "nbformat_minor": 5
}
