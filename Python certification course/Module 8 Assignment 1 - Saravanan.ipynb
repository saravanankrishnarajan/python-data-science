{
 "cells": [
  {
   "cell_type": "raw",
   "id": "6ef2acb7",
   "metadata": {},
   "source": [
    "#1. Write a Python GUI program to add a button in your application using the Tkinter module."
   ]
  },
  {
   "cell_type": "code",
   "execution_count": 40,
   "id": "31307d71",
   "metadata": {},
   "outputs": [],
   "source": [
    "import tkinter as tk\n",
    "from tkinter import ttk\n",
    "\n",
    "window =tk.Tk()\n",
    "window.geometry('300x300')\n",
    "window.title(\"Button GUI program\")\n",
    "\n",
    "label = ttk.Button(window,text=\"Hello World!\").pack()\n",
    "window.mainloop()\n"
   ]
  },
  {
   "cell_type": "raw",
   "id": "d28a2e47",
   "metadata": {},
   "source": [
    "#2. Write a Python GUI program to create a Spinbox widget using the Tkinter module."
   ]
  },
  {
   "cell_type": "code",
   "execution_count": 41,
   "id": "c9a84c3f",
   "metadata": {},
   "outputs": [],
   "source": [
    "from tkinter import *\n",
    "\n",
    "window =tk.Tk()\n",
    "window.geometry('300x200')\n",
    "window.title(\"Button GUI program\")\n",
    "\n",
    "label = Label(window, text='Select a number', font=\"50\").pack()\n",
    "sp = Spinbox(window,from_=0, to=20)\n",
    "sp.pack()\n",
    "window.mainloop()"
   ]
  },
  {
   "cell_type": "raw",
   "id": "4bc8afe2",
   "metadata": {},
   "source": [
    "#3. Create a login page that will ask for input such as Name and Password"
   ]
  },
  {
   "cell_type": "code",
   "execution_count": 42,
   "id": "83d2401c",
   "metadata": {},
   "outputs": [
    {
     "data": {
      "application/vnd.jupyter.widget-view+json": {
       "model_id": "584332cb26e64945ad7dcad77889357c",
       "version_major": 2,
       "version_minor": 0
      },
      "text/plain": [
       "Box(children=(Text(value='', description='Name'), Password(description='Password')))"
      ]
     },
     "metadata": {},
     "output_type": "display_data"
    }
   ],
   "source": [
    "import ipywidgets as widgets\n",
    "from ipywidgets import HBox, VBox\n",
    "import numpy as np\n",
    "import matplotlib.pyplot as plt\n",
    "from IPython.display import display\n",
    "%matplotlib inline\n",
    "\n",
    "name_text = widgets.Text(description ='Name')\n",
    "name_text\n",
    "pass_pass = widgets.Password(description ='Password')\n",
    "pass_pass\n",
    "widgets.Box([name_text,pass_pass])\n"
   ]
  },
  {
   "cell_type": "raw",
   "id": "433abbba",
   "metadata": {},
   "source": [
    "#4. Create three radio buttons that will include 3 fields: First, Second, and Third."
   ]
  },
  {
   "cell_type": "code",
   "execution_count": 44,
   "id": "c9c2b19a",
   "metadata": {},
   "outputs": [
    {
     "data": {
      "application/vnd.jupyter.widget-view+json": {
       "model_id": "1aa7230eafcb4c7ea8e06312bcf882ca",
       "version_major": 2,
       "version_minor": 0
      },
      "text/plain": [
       "RadioButtons(description='Radio buttons', options=('First', 'Second', 'Third'), value='First')"
      ]
     },
     "metadata": {},
     "output_type": "display_data"
    }
   ],
   "source": [
    "radio_wid = widgets.RadioButtons(\n",
    "    options=['First', 'Second', 'Third'],\n",
    "    description='Radio buttons'\n",
    ")\n",
    "radio_wid"
   ]
  },
  {
   "cell_type": "raw",
   "id": "482660a9",
   "metadata": {},
   "source": [
    "#5. Create a dropdown list of city names such as Bangalore, Mangalore, and Mysore using ipywidgets."
   ]
  },
  {
   "cell_type": "code",
   "execution_count": 46,
   "id": "6a6ba73b",
   "metadata": {},
   "outputs": [
    {
     "data": {
      "application/vnd.jupyter.widget-view+json": {
       "model_id": "9c3b1c5861fe448fac934b617be74c51",
       "version_major": 2,
       "version_minor": 0
      },
      "text/plain": [
       "Dropdown(description='Dropdown', options=('Bangalore', 'Mangalore', 'Mysore'), value='Bangalore')"
      ]
     },
     "metadata": {},
     "output_type": "display_data"
    }
   ],
   "source": [
    "drop_wid = widgets.Dropdown(\n",
    "    description='Dropdown',\n",
    "    options=['Bangalore', 'Mangalore', 'Mysore']\n",
    ")\n",
    "drop_wid"
   ]
  },
  {
   "cell_type": "code",
   "execution_count": null,
   "id": "bf7af457",
   "metadata": {},
   "outputs": [],
   "source": []
  }
 ],
 "metadata": {
  "kernelspec": {
   "display_name": "Python 3 (ipykernel)",
   "language": "python",
   "name": "python3"
  },
  "language_info": {
   "codemirror_mode": {
    "name": "ipython",
    "version": 3
   },
   "file_extension": ".py",
   "mimetype": "text/x-python",
   "name": "python",
   "nbconvert_exporter": "python",
   "pygments_lexer": "ipython3",
   "version": "3.10.6"
  }
 },
 "nbformat": 4,
 "nbformat_minor": 5
}
