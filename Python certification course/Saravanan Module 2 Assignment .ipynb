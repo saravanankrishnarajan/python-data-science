{
 "cells": [
  {
   "cell_type": "code",
   "execution_count": null,
   "id": "edc5aaa3",
   "metadata": {},
   "outputs": [],
   "source": [
    "1. Smith wishes to register on a ticket booking website for booking bus tickets. To\n",
    "authenticate the registration, he needs to provide a user-id and password. There\n",
    "are some built-in rules for checking the validity of the passwords entered by the\n",
    "users. Following are the rules for checking the validity of a password:\n",
    "    \n",
    "i. At least 1 alphabet\n",
    "ii. At least 1 digit between [0–9]\n",
    "iii. At least 1 character from [@&]\n",
    "iv. Minimum length of transaction password: 5\n",
    "v. Maximum length of transaction password: 10"
   ]
  },
  {
   "cell_type": "code",
   "execution_count": 217,
   "id": "4b061f09",
   "metadata": {},
   "outputs": [
    {
     "name": "stdout",
     "output_type": "stream",
     "text": [
      "Enter username:test123\n",
      "Enter Password:Hi34\n",
      "Passsword must be atleast 5 to 10 characters.\n",
      "Password must contain atleast 1 character from [@&]\n"
     ]
    }
   ],
   "source": [
    "def check_password(password):\n",
    "\n",
    "    contains_alpha=0\n",
    "    contains_numeric=0\n",
    "    \n",
    "    good_password=1\n",
    "    \n",
    "    for i in password:\n",
    "        if (i.isalpha()):\n",
    "            contains_alpha=1\n",
    "            break\n",
    "        else:\n",
    "            continue\n",
    "            \n",
    "    for i in password:\n",
    "        if (i.isnumeric()):\n",
    "            contains_numeric=1\n",
    "            break\n",
    "        else:\n",
    "            continue\n",
    "            \n",
    "    if(len(password) >= 5 and len(password) <=10 ):\n",
    "        #print(\"Length of password is good\")\n",
    "        pass\n",
    "    else:\n",
    "        print('Passsword must be atleast 5 to 10 characters.')\n",
    "        good_password=0\n",
    "        \n",
    "    if(contains_alpha==1):\n",
    "        #print(\"Password contains alphabet(s)\")\n",
    "        pass\n",
    "    else:\n",
    "        print(\"Password should have atleast 1 alphabet.\")\n",
    "        good_password=0\n",
    "        \n",
    "    if(contains_numeric==1):\n",
    "        #print(\"Password contains numeric(s)\")\n",
    "        pass\n",
    "    else:\n",
    "        print(\"Password should have atleast 1 numeric.\")\n",
    "        good_password=0\n",
    "    \n",
    "    if('@' in password or '&' in password):\n",
    "        #print(\"Password contains special characters\")\n",
    "        pass\n",
    "    else:\n",
    "        print('Password must contain atleast 1 character from [@&]')\n",
    "        good_password=0\n",
    "    \n",
    "    if(good_password==1):\n",
    "        print(\"It is a valid password\")\n",
    "\n",
    "        \n",
    "UserName= input(\"Enter username:\")\n",
    "Password = input(\"Enter Password:\")\n",
    "check_password(Password)\n",
    "\n"
   ]
  },
  {
   "cell_type": "code",
   "execution_count": null,
   "id": "fa26d2de",
   "metadata": {},
   "outputs": [],
   "source": [
    "2. Write a program for printing all elements of a list and their indexes in the list.\n",
    "Take the list as user input."
   ]
  },
  {
   "cell_type": "code",
   "execution_count": 218,
   "id": "a5cff3cd",
   "metadata": {},
   "outputs": [
    {
     "name": "stdout",
     "output_type": "stream",
     "text": [
      "Enter list of values separated by comma: Chennai,Delhi,Mumbai,Bangalore\n",
      "Index; 0, Value: Chennai \n",
      "Index; 1, Value: Delhi \n",
      "Index; 2, Value: Mumbai \n",
      "Index; 3, Value: Bangalore \n"
     ]
    }
   ],
   "source": [
    "user_list = list(input(\"Enter list of values separated by comma: \").split(','))\n",
    "\n",
    "for i in range(0,len(user_list)):\n",
    "    print('Index; %d, Value: %s '%(i,user_list[i]))"
   ]
  },
  {
   "cell_type": "code",
   "execution_count": null,
   "id": "8de088b4",
   "metadata": {},
   "outputs": [],
   "source": [
    "3. Write a program that accepts a string from the console and prints the characters\n",
    "that have even indexes if the character is an alphabet. Concatenate the characters\n",
    "and print.\n",
    " Example\n",
    "If the following string is given as input to the program:\n",
    " Ed12ur3ka1Python12\n",
    " Then, the output of the program should be:\n",
    " EuaPto\n"
   ]
  },
  {
   "cell_type": "code",
   "execution_count": 219,
   "id": "511952e2",
   "metadata": {},
   "outputs": [
    {
     "name": "stdout",
     "output_type": "stream",
     "text": [
      "Enter a string value:Ed12ur3ka1Python12\n",
      "Even Alphabets from the string is:  EuaPto\n"
     ]
    }
   ],
   "source": [
    "user_string = input(\"Enter a string value:\")\n",
    "\n",
    "evenalphastring = ''\n",
    "\n",
    "for i in range(0,len(user_string)):\n",
    "    if(i%2==0 and user_string[i].isalpha()):\n",
    "        evenalphastring= evenalphastring+user_string[i]\n",
    "        \n",
    "print(\"Even Alphabets from the string is: \",evenalphastring)\n",
    "\n"
   ]
  },
  {
   "cell_type": "code",
   "execution_count": null,
   "id": "01392bc0",
   "metadata": {},
   "outputs": [],
   "source": [
    "4. Please write a program that accepts a string from the console and prints it in\n",
    "reverse order.\n",
    " Example\n",
    "If the following string is given as input to the program:\n",
    " welcome to edureka\n",
    " Then, the output of the program should be:\n",
    " akerude ot emoclew\n",
    "\n"
   ]
  },
  {
   "cell_type": "code",
   "execution_count": 220,
   "id": "bbc239e2",
   "metadata": {},
   "outputs": [
    {
     "name": "stdout",
     "output_type": "stream",
     "text": [
      "Enter a string value: welcome to edureka\n",
      "Reverse of the string is: \n",
      "akerude ot emoclew\n"
     ]
    }
   ],
   "source": [
    "user_string = input(\"Enter a string value: \")\n",
    "\n",
    "print(\"Reverse of the string is: \")\n",
    "print(user_string[::-1])\n"
   ]
  },
  {
   "cell_type": "code",
   "execution_count": null,
   "id": "d4270268",
   "metadata": {},
   "outputs": [],
   "source": [
    "5. Please write a program that counts and prints the numbers of each character in a\n",
    "string input by the console.\n",
    "\n",
    "Example\n",
    "If the following string is given as input to the program:\n",
    " abcdefgabc\n",
    " Then, the output of the program should be:\n",
    "a,2\n",
    "c,2\n",
    "b,2\n",
    "e,1\n",
    "d,1\n",
    "g,1\n",
    "f,1\n"
   ]
  },
  {
   "cell_type": "code",
   "execution_count": 223,
   "id": "ccccf9c3",
   "metadata": {},
   "outputs": [
    {
     "name": "stdout",
     "output_type": "stream",
     "text": [
      "Enter a string: abcdefgabc123\n",
      "a, 2\n",
      "b, 2\n",
      "c, 2\n",
      "d, 1\n",
      "e, 1\n",
      "f, 1\n",
      "g, 1\n",
      "1, 1\n",
      "2, 1\n",
      "3, 1\n"
     ]
    }
   ],
   "source": [
    "user_string = input('Enter a string: ')\n",
    "\n",
    "chars_dict = {}\n",
    "for i in user_string:\n",
    "    #if(i.isalpha()):\n",
    "    if(i in chars_dict.keys()):\n",
    "        chars_dict[i]+=1\n",
    "    else:\n",
    "        chars_dict[i]=1\n",
    "    #else:\n",
    "    #    pass\n",
    "\n",
    "for k in chars_dict.keys():\n",
    "    print('{}, {}'.format(k, chars_dict[k]))"
   ]
  },
  {
   "cell_type": "code",
   "execution_count": null,
   "id": "4c68c259",
   "metadata": {},
   "outputs": [],
   "source": [
    "6. With two given lists [1,5,10,12,34,13] and [4,7,8,10,5,13,24], write a program to\n",
    "create a new list whose elements are the intersection of the above-given lists.\n",
    "\n"
   ]
  },
  {
   "cell_type": "code",
   "execution_count": 224,
   "id": "96f5512c",
   "metadata": {},
   "outputs": [
    {
     "name": "stdout",
     "output_type": "stream",
     "text": [
      "Intersection of list 1 and 2 is  [5, 10, 13]\n"
     ]
    }
   ],
   "source": [
    "list_1 = [1,5,10,12,34,13] \n",
    "list_2 = [4,7,8,10,5,13,24]\n",
    "\n",
    "new_list =[]\n",
    "\n",
    "for i in range(0,len(list_1)):\n",
    "    for j in range(0,len(list_2)):\n",
    "        if(list_2[j]==list_1[i]):\n",
    "            if(list_1[i] not in new_list):\n",
    "                new_list.append(list_1[i])\n",
    "                \n",
    "print(\"Intersection of list 1 and 2 is \", new_list)"
   ]
  },
  {
   "cell_type": "code",
   "execution_count": null,
   "id": "dbb0ba9c",
   "metadata": {},
   "outputs": [],
   "source": [
    "7. By using list comprehension, please write a program to print the list after removing\n",
    "the values which are divisible by 6 in [12,24,35,24,88,120,155]\n",
    "\n"
   ]
  },
  {
   "cell_type": "code",
   "execution_count": 225,
   "id": "4046c2a2",
   "metadata": {},
   "outputs": [
    {
     "name": "stdout",
     "output_type": "stream",
     "text": [
      "[12, 24, 35, 24, 88, 120, 155]\n",
      "List of items after removing values which are divisible by 6 is:  [35, 24, 88, 155]\n"
     ]
    }
   ],
   "source": [
    "lst = [12,24,35,24,88,120,155]\n",
    "\n",
    "print(lst)\n",
    "\n",
    "[lst.remove(i) for i  in lst if(i%6)==0 ]\n",
    "\n",
    "print(\"List of items after removing values which are divisible by 6 is: \",lst)"
   ]
  },
  {
   "cell_type": "code",
   "execution_count": null,
   "id": "7f28b5ca",
   "metadata": {},
   "outputs": [],
   "source": [
    "8. By using list comprehension, please write a program to print the list after removing\n",
    "the 1st,3rd, and 5th numbers in [12,24,35,70,88,120,155].\n",
    "\n",
    "\"\"\"NOTE TO THE INSTRUCTOR. I am not sure which VALUES TO BE REMOVED. Does that mean index or position?\"\"\"\n",
    "\"\"\"I go with index 0 as 1st value\"\"\""
   ]
  },
  {
   "cell_type": "code",
   "execution_count": 226,
   "id": "bc20ce10",
   "metadata": {},
   "outputs": [
    {
     "name": "stdout",
     "output_type": "stream",
     "text": [
      "[12, 24, 35, 70, 88, 120, 155]\n",
      "[24, 70, 120, 155]\n"
     ]
    }
   ],
   "source": [
    "lst = [12,24,35,70,88,120,155]\n",
    "\n",
    "remove_lst =[1,3,5]\n",
    "print(lst)\n",
    "\n",
    "[lst.remove(lst[i]) for i in range(len(lst)-1,-1,-1) if i+1 in (1,3,5) ]\n",
    "\n",
    "print(lst)"
   ]
  },
  {
   "cell_type": "code",
   "execution_count": null,
   "id": "c8f6d676",
   "metadata": {},
   "outputs": [],
   "source": [
    "9. Please write a program to randomly generate a list with 6 numbers, which are\n",
    "divisible by 5 and 7, between 1 and 1500 inclusive.\n",
    "\n",
    "\"\"\"Note to instructor: I have used random library to genrate random values and here used 2 different logic for similar answer\"\"\"\n"
   ]
  },
  {
   "cell_type": "code",
   "execution_count": 228,
   "id": "afff30d0",
   "metadata": {},
   "outputs": [
    {
     "name": "stdout",
     "output_type": "stream",
     "text": [
      "List with 6 random numbers which are divisible by 5 and 7, between 1 and 1500:  [385, 770, 875, 1050, 1400, 945]\n"
     ]
    }
   ],
   "source": [
    "import random as rnd\n",
    "lst=[]\n",
    "for i in range(1,1501):\n",
    "    if(i%5==0 and i%7==0):\n",
    "        lst.append(i)\n",
    "#print(\"List of numbers divisible by 5 and 7, between 1 and 1500: \",lst)\n",
    "\n",
    "random_lst=[]\n",
    "count=0\n",
    "  \n",
    "for i in range(0,len(lst)):\n",
    "    rand_value = lst[rnd.randint(0,len(lst))]\n",
    "    if(rand_value not in random_lst):\n",
    "        random_lst.append(rand_value)\n",
    "        count +=1\n",
    "        if(count==6):\n",
    "            break\n",
    "    else:\n",
    "        pass\n",
    "    \n",
    "print(\"List with 6 random numbers which are divisible by 5 and 7, between 1 and 1500: \",random_lst)\n",
    "    "
   ]
  },
  {
   "cell_type": "code",
   "execution_count": 229,
   "id": "78c5845e",
   "metadata": {},
   "outputs": [
    {
     "name": "stdout",
     "output_type": "stream",
     "text": [
      "List with 6 random numbers which are divisible by 5 and 7, between 1 and 1500:  [70, 630, 560, 35, 1050, 595]\n"
     ]
    }
   ],
   "source": [
    "import random as rnd\n",
    "lst=[]\n",
    "for i in range(1,1501):\n",
    "    if(i%5==0 and i%7==0):\n",
    "        lst.append(i)\n",
    "#print(\"List of numbers divisible by 5 and 7, between 1 and 1500: \",lst)\n",
    "\n",
    "random_lst=rnd.sample(lst,6)\n",
    "print(\"List with 6 random numbers which are divisible by 5 and 7, between 1 and 1500: \",random_lst)"
   ]
  },
  {
   "cell_type": "code",
   "execution_count": null,
   "id": "b57c32b9",
   "metadata": {},
   "outputs": [],
   "source": [
    "10.Write a program to compute 1/2+2/3+3/4+...+n/n+1 with a given n input by\n",
    "console (n>0).\n",
    "\n",
    "Example\n",
    "If the following n is given as input to the program:5\n",
    "Then, the output of the program should be:3.55\n",
    "    "
   ]
  },
  {
   "cell_type": "code",
   "execution_count": 230,
   "id": "5430f476",
   "metadata": {},
   "outputs": [
    {
     "name": "stdout",
     "output_type": "stream",
     "text": [
      "Enter a integer greater than 0 to find the sum: 5\n",
      "Sum of value for user input is: 3.55\n"
     ]
    }
   ],
   "source": [
    "user_value =int(input(\"Enter a integer greater than 0 to find the sum: \"))\n",
    "value = 0\n",
    "for i in range(1,user_value+1):\n",
    "    value += ( i/(i+1))\n",
    "    \n",
    "print(\"Sum of value for user input is: %0.2f\"%value)"
   ]
  },
  {
   "cell_type": "code",
   "execution_count": null,
   "id": "b9d93e24",
   "metadata": {},
   "outputs": [],
   "source": [
    "11.Case Study\n",
    "\n",
    "Domain: Banking\n",
    "Focus: Optimization\n",
    "    \n",
    "Business challenge/requirement\n",
    "\n",
    "FinBank is the latest entrant in the banking market of Thailand. The verification\n",
    "process for opening a bank account is done manually by reviewing the photocopy of\n",
    "the approved ID card. However, they have recently introduced a system where the\n",
    "customers’ fingerprints will be mapped with the newly introduced Unique ID for\n",
    "citizens of Thailand by the government. FinBank should implement a system that\n",
    "verifies customers against their fingerprints and Unique Id.\n",
    "\n",
    "Key issues\n",
    "Build a system where when a user enters a Unique ID, it gets encrypted so that\n",
    "hackers cannot view the mapping of the Unique ID and fingerprint.\n",
    "\n",
    "Considerations\n",
    "The system should be secure.\n",
    "\n",
    "Data volume\n",
    "- NA\n",
    "\n",
    "Additional information\n",
    "- NA\n",
    "\n",
    "Business benefits\n",
    "\n",
    "The bank will be able to verify customers’ data quickly, and the expected gain in\n",
    "volume is approximately ten times as the manual process of verification is replaced\n",
    "with a secure automated system.\n",
    "\n",
    "Approach to solve\n",
    "1. Read the input from the command line – Unique ID.\n",
    "2. Check for validity of Unique ID – it should be 10 digits and must contain only\n",
    "numbers.\n",
    "3. Encrypt the Unique ID and print it.\n",
    "\n",
    "Enhancements for code\n",
    "You can try these enhancements in code.\n",
    "1. Allow alphabets and some special characters in Unique ID\n",
    "2. Provide the option for decryption to the user.\n"
   ]
  },
  {
   "cell_type": "code",
   "execution_count": 231,
   "id": "afc151d6",
   "metadata": {},
   "outputs": [
    {
     "name": "stdout",
     "output_type": "stream",
     "text": [
      "Enter unique id for the user: 1234ii1234\n",
      "Entered unique id is:  1234ii1234\n",
      "enter correct value for i at digit 57\n",
      "enter correct value for i at digit 67\n",
      "Encrypted unique id after correction is: bytearray(b'1234771234')\n",
      "Encrypted unique id is bytearray(b'1234771234')\n",
      "Decrypted unique id is 1234771234\n"
     ]
    }
   ],
   "source": [
    "def encrypt_unique_id(uid):\n",
    "    uid = bytearray(uid,'utf-8')\n",
    "    return uid\n",
    "\n",
    "def decrypt_unique_id(uid):\n",
    "    uid = uid.decode()\n",
    "    return uid\n",
    "\n",
    "def check_unique_id(uid):\n",
    "    \n",
    "    old_uid = uid\n",
    "    print(\"Entered unique id is: \",uid)\n",
    "    uid_bytearray = encrypt_unique_id(uid)\n",
    "    correction =0\n",
    "    \n",
    "    for i in range(0,len(uid)):\n",
    "        \n",
    "        if(uid[i].isnumeric()==False):\n",
    "            new_digit_value = input('enter correct value for %s at digit %d'%(uid[i],i+1))\n",
    "            uid_bytearray[i:i+1]=bytearray(new_digit_value,'utf-8')\n",
    "                \n",
    "    uid = uid_bytearray.decode()\n",
    "    \n",
    "    if(old_uid!=uid):\n",
    "        print(\"Encrypted unique id after correction is:\",uid_bytearray)\n",
    "    else:\n",
    "        print(\"Encrypted unique id is: \",uid_bytearray)\n",
    "    return uid_bytearray\n",
    "        \n",
    "\n",
    "unique_id=''\n",
    "while True:\n",
    "    unique_id =input(\"Enter unique id for the user: \")\n",
    "    if (len(unique_id)!=10):\n",
    "        print(\"Unique id must be 10 digit\")\n",
    "    else:\n",
    "        encrypted_unique_id= check_unique_id(unique_id)\n",
    "        break\n",
    "    \n",
    "print(\"Encrypted unique id is\",encrypted_unique_id)\n",
    "print(\"Decrypted unique id is\",decrypt_unique_id(encrypted_unique_id))\n",
    "\n"
   ]
  },
  {
   "cell_type": "code",
   "execution_count": null,
   "id": "5b196b50",
   "metadata": {},
   "outputs": [],
   "source": []
  },
  {
   "cell_type": "code",
   "execution_count": null,
   "id": "23b5af32",
   "metadata": {},
   "outputs": [],
   "source": []
  }
 ],
 "metadata": {
  "kernelspec": {
   "display_name": "Python 3 (ipykernel)",
   "language": "python",
   "name": "python3"
  },
  "language_info": {
   "codemirror_mode": {
    "name": "ipython",
    "version": 3
   },
   "file_extension": ".py",
   "mimetype": "text/x-python",
   "name": "python",
   "nbconvert_exporter": "python",
   "pygments_lexer": "ipython3",
   "version": "3.10.6"
  }
 },
 "nbformat": 4,
 "nbformat_minor": 5
}
